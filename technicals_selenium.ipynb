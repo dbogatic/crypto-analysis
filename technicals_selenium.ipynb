{
 "cells": [
  {
   "cell_type": "markdown",
   "metadata": {},
   "source": [
    "# Web scraping Investing.com using Selenium and Chrome webdriver \n",
    "## Daily ETH and BTC Technical Data\n",
    "\n",
    "Source: \n",
    "https://medium.com/@sarfrazarshad/scraping-dynamically-created-tables-196b7cbe6c84\n",
    "\n",
    "https://stackoverflow.com/questions/53398785/pandas-read-html-valueerror-no-tables-found"
   ]
  },
  {
   "cell_type": "code",
   "execution_count": 1,
   "metadata": {},
   "outputs": [],
   "source": [
    "from selenium import webdriver\n",
    "import pandas as pd\n",
    "from path import Path"
   ]
  },
  {
   "cell_type": "markdown",
   "metadata": {},
   "source": [
    "## ETH Technicals (Daily)"
   ]
  },
  {
   "cell_type": "code",
   "execution_count": 2,
   "metadata": {},
   "outputs": [],
   "source": [
    "# Specify url that has tables \n",
    "url =('http://www.investing.com/crypto/ethereum/eth-usd-technical')"
   ]
  },
  {
   "cell_type": "code",
   "execution_count": 6,
   "metadata": {},
   "outputs": [],
   "source": [
    "# Setup the webdriver\n",
    "driver = webdriver.Chrome(executable_path='/Users/draganbogatic/chromedriver ')\n",
    "# Read in url\n",
    "driver.get(url)"
   ]
  },
  {
   "cell_type": "code",
   "execution_count": 7,
   "metadata": {},
   "outputs": [],
   "source": [
    "# Specify daily tab to obtain daily technical data\n",
    "daily_tab = driver.find_element_by_link_text('Daily')\n",
    "daily_tab.click()"
   ]
  },
  {
   "cell_type": "code",
   "execution_count": 8,
   "metadata": {},
   "outputs": [
    {
     "name": "stdout",
     "output_type": "stream",
     "text": [
      "[                S3       S2       S1  Pivot Points       R1       R2       R3\n",
      "Name                                                                         \n",
      "Classic    2838.71  2917.26  3028.47       3107.02  3218.23  3296.78  3407.99\n",
      "Fibonacci  2917.26  2989.75  3034.53       3107.02  3179.51  3224.29  3296.78\n",
      "Camarilla  3087.50  3104.89  3122.29       3107.02  3157.07  3174.47  3191.86\n",
      "Woodie's   2855.03  2925.42  3044.79       3115.18  3234.55  3304.94  3424.31\n",
      "DeMark's         -        -  3067.74       3126.66  3257.50        -        -]\n",
      "[                                                                                     Value  \\\n",
      "Name                                                                                         \n",
      "RSI(14)                                                                             59.047   \n",
      "STOCH(9,6)                                                                          78.446   \n",
      "STOCHRSI(14)                                                                       100.000   \n",
      "MACD(12,26)                                                                        -38.400   \n",
      "ADX(14)                                                                             40.721   \n",
      "Williams %R                                                                         -4.058   \n",
      "CCI(14)                                                                           149.3319   \n",
      "ATR(14)                                                                           169.0528   \n",
      "Highs/Lows(14)                                                                    323.8079   \n",
      "Ultimate Oscillator                                                                 70.565   \n",
      "ROC                                                                                 28.152   \n",
      "Bull/Bear Power(13)                                                               439.8079   \n",
      "Buy: 7 Sell: 1 Neutral: 0 Summary:Strong Buy  Buy: 7 Sell: 1 Neutral: 0 Summary:Strong Buy   \n",
      "\n",
      "                                                                                    Action  \n",
      "Name                                                                                        \n",
      "RSI(14)                                                                                Buy  \n",
      "STOCH(9,6)                                                                             Buy  \n",
      "STOCHRSI(14)                                                                    Overbought  \n",
      "MACD(12,26)                                                                           Sell  \n",
      "ADX(14)                                                                                Buy  \n",
      "Williams %R                                                                     Overbought  \n",
      "CCI(14)                                                                                Buy  \n",
      "ATR(14)                                                                    Less Volatility  \n",
      "Highs/Lows(14)                                                                         Buy  \n",
      "Ultimate Oscillator                                                             Overbought  \n",
      "ROC                                                                                    Buy  \n",
      "Bull/Bear Power(13)                                                                    Buy  \n",
      "Buy: 7 Sell: 1 Neutral: 0 Summary:Strong Buy  Buy: 7 Sell: 1 Neutral: 0 Summary:Strong Buy  ]\n",
      "[                                                        Simple  \\\n",
      "Period                                                           \n",
      "MA5                                                3070.97 Buy   \n",
      "MA10                                               2880.47 Buy   \n",
      "MA20                                               2713.21 Buy   \n",
      "MA50                                              3226.04 Sell   \n",
      "MA100                                             3767.98 Sell   \n",
      "MA200                                             3548.85 Sell   \n",
      "Buy: 6 Sell: 6 Summary:Neutral  Buy: 6 Sell: 6 Summary:Neutral   \n",
      "\n",
      "                                                   Exponential  \n",
      "Period                                                          \n",
      "MA5                                                3045.09 Buy  \n",
      "MA10                                               2915.88 Buy  \n",
      "MA20                                               2900.44 Buy  \n",
      "MA50                                              3189.34 Sell  \n",
      "MA100                                             3403.58 Sell  \n",
      "MA200                                             3350.24 Sell  \n",
      "Buy: 6 Sell: 6 Summary:Neutral  Buy: 6 Sell: 6 Summary:Neutral  ]\n"
     ]
    }
   ],
   "source": [
    "# Find tables by id, parse html and iterate through tables and print the list of tables\n",
    "items = driver.find_elements_by_id(\"curr_table\")\n",
    "\n",
    "for item in items:\n",
    "    table = item.get_attribute('outerHTML')\n",
    "    eth_technicals = pd.read_html(table, index_col=0)\n",
    "    print(eth_technicals)"
   ]
  },
  {
   "cell_type": "markdown",
   "metadata": {},
   "source": [
    "## BTC Technicals (Daily)"
   ]
  },
  {
   "cell_type": "code",
   "execution_count": 9,
   "metadata": {},
   "outputs": [],
   "source": [
    "# Specify url and read it in with the driver\n",
    "url =('http://www.investing.com/crypto/bitcoin/btc-usd-technical')\n",
    "driver.get(url)"
   ]
  },
  {
   "cell_type": "code",
   "execution_count": 10,
   "metadata": {},
   "outputs": [],
   "source": [
    "# Specify daily tab to obtain daily technical data\n",
    "daily_tab = driver.find_element_by_link_text('Daily')\n",
    "daily_tab.click()"
   ]
  },
  {
   "cell_type": "code",
   "execution_count": 11,
   "metadata": {},
   "outputs": [
    {
     "name": "stdout",
     "output_type": "stream",
     "text": [
      "[                S3       S2       S1  Pivot Points       R1       R2       R3\n",
      "Name                                                                         \n",
      "Classic    39435.0  40575.0  42220.0       43360.0  45005.0  46145.0  47790.0\n",
      "Fibonacci  40575.0  41638.9  42296.1       43360.0  44423.9  45081.1  46145.0\n",
      "Camarilla  43099.1  43354.4  43609.7       43360.0  44120.3  44375.6  44630.9\n",
      "Woodie's   39687.4  40701.2  42472.4       43486.2  45257.4  46271.2  48042.4\n",
      "DeMark's         -        -  42790.0       43645.0  45575.0        -        -]\n",
      "[                                                                                     Value  \\\n",
      "Name                                                                                         \n",
      "RSI(14)                                                                             63.969   \n",
      "STOCH(9,6)                                                                          92.192   \n",
      "STOCHRSI(14)                                                                       100.000   \n",
      "MACD(12,26)                                                                         16.000   \n",
      "ADX(14)                                                                             30.054   \n",
      "Williams %R                                                                         -0.864   \n",
      "CCI(14)                                                                           179.2599   \n",
      "ATR(14)                                                                          1837.9729   \n",
      "Highs/Lows(14)                                                                   4147.7056   \n",
      "Ultimate Oscillator                                                                 70.296   \n",
      "ROC                                                                                 19.484   \n",
      "Bull/Bear Power(13)                                                              6286.0300   \n",
      "Buy: 7 Sell: 0 Neutral: 0 Summary:Strong Buy  Buy: 7 Sell: 0 Neutral: 0 Summary:Strong Buy   \n",
      "\n",
      "                                                                                    Action  \n",
      "Name                                                                                        \n",
      "RSI(14)                                                                                Buy  \n",
      "STOCH(9,6)                                                                      Overbought  \n",
      "STOCHRSI(14)                                                                    Overbought  \n",
      "MACD(12,26)                                                                            Buy  \n",
      "ADX(14)                                                                                Buy  \n",
      "Williams %R                                                                     Overbought  \n",
      "CCI(14)                                                                                Buy  \n",
      "ATR(14)                                                                    Less Volatility  \n",
      "Highs/Lows(14)                                                                         Buy  \n",
      "Ultimate Oscillator                                                             Overbought  \n",
      "ROC                                                                                    Buy  \n",
      "Bull/Bear Power(13)                                                                    Buy  \n",
      "Buy: 7 Sell: 0 Neutral: 0 Summary:Strong Buy  Buy: 7 Sell: 0 Neutral: 0 Summary:Strong Buy  ]\n",
      "[                                                Simple  \\\n",
      "Period                                                   \n",
      "MA5                                        42701.3 Buy   \n",
      "MA10                                       40296.1 Buy   \n",
      "MA20                                       38765.7 Buy   \n",
      "MA50                                       42786.5 Buy   \n",
      "MA100                                     49510.2 Sell   \n",
      "MA200                                     49252.4 Sell   \n",
      "Buy: 8 Sell: 4 Summary:Buy  Buy: 8 Sell: 4 Summary:Buy   \n",
      "\n",
      "                                           Exponential  \n",
      "Period                                                  \n",
      "MA5                                        42488.6 Buy  \n",
      "MA10                                       40949.7 Buy  \n",
      "MA20                                       40454.3 Buy  \n",
      "MA50                                       43198.5 Buy  \n",
      "MA100                                     45769.7 Sell  \n",
      "MA200                                     47711.8 Sell  \n",
      "Buy: 8 Sell: 4 Summary:Buy  Buy: 8 Sell: 4 Summary:Buy  ]\n"
     ]
    }
   ],
   "source": [
    "# Find tables by id, parse html and iterate through tables and print the list of tables\n",
    "items = driver.find_elements_by_id(\"curr_table\")\n",
    "\n",
    "for item in items:\n",
    "    table = item.get_attribute('outerHTML')\n",
    "    btc_technicals = pd.read_html(table, index_col=0)\n",
    "    print(btc_technicals)"
   ]
  }
 ],
 "metadata": {
  "interpreter": {
   "hash": "1d1365bc7bea9ca53bbaaff2a498c5cc15b63a6fcc47bade387e2edfe7e7b068"
  },
  "kernelspec": {
   "display_name": "Python 3.7.9 64-bit ('algotrading': conda)",
   "name": "python3"
  },
  "language_info": {
   "codemirror_mode": {
    "name": "ipython",
    "version": 3
   },
   "file_extension": ".py",
   "mimetype": "text/x-python",
   "name": "python",
   "nbconvert_exporter": "python",
   "pygments_lexer": "ipython3",
   "version": "3.7.9"
  },
  "orig_nbformat": 4
 },
 "nbformat": 4,
 "nbformat_minor": 2
}
