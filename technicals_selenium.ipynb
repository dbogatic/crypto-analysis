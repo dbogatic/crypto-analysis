{
 "cells": [
  {
   "cell_type": "markdown",
   "source": [
    "# Web scraping Investing.com using Selenium and Chrome webdriver \n",
    "## Daily ETH and BTC Technical Data\n",
    "\n",
    "Source: \n",
    "https://medium.com/@sarfrazarshad/scraping-dynamically-created-tables-196b7cbe6c84\n",
    "\n",
    "https://stackoverflow.com/questions/53398785/pandas-read-html-valueerror-no-tables-found"
   ],
   "metadata": {}
  },
  {
   "cell_type": "code",
   "execution_count": 1,
   "source": [
    "from selenium import webdriver\n",
    "import pandas as pd"
   ],
   "outputs": [],
   "metadata": {}
  },
  {
   "cell_type": "markdown",
   "source": [
    "## ETH Technicals (Daily)"
   ],
   "metadata": {}
  },
  {
   "cell_type": "code",
   "execution_count": 2,
   "source": [
    "# Specify url that has tables \n",
    "url =('http://www.investing.com/indices/investing.com-eth-usd-technical')"
   ],
   "outputs": [],
   "metadata": {}
  },
  {
   "cell_type": "code",
   "execution_count": 3,
   "source": [
    "# Setup the webdriver\n",
    "driver = webdriver.Chrome(executable_path='/Users/draganbogatic/chromedriver')"
   ],
   "outputs": [],
   "metadata": {}
  },
  {
   "cell_type": "code",
   "execution_count": 4,
   "source": [
    "# Read in url with the driver\n",
    "driver.get(url)"
   ],
   "outputs": [],
   "metadata": {}
  },
  {
   "cell_type": "code",
   "execution_count": null,
   "source": [
    "# Specify daily tab to obtain daily technical data\n",
    "daily_tab = driver.find_element_by_link_text('Daily')\n",
    "daily_tab.click()"
   ],
   "outputs": [],
   "metadata": {}
  },
  {
   "cell_type": "code",
   "execution_count": null,
   "source": [
    "# Find tables by id, parse html and iterate through tables and print the list of tables\n",
    "items = driver.find_elements_by_id(\"curr_table\")\n",
    "\n",
    "for item in items:\n",
    "    table = item.get_attribute('outerHTML')\n",
    "    eth_technicals = pd.read_html(table, index_col=0)\n",
    "    print(eth_technicals)"
   ],
   "outputs": [
    {
     "output_type": "stream",
     "name": "stdout",
     "text": [
      "[                S3       S2       S1  Pivot Points       R1       R2       R3\n",
      "Name                                                                         \n",
      "Classic    2322.06  2371.88  2452.04       2501.86  2582.02  2631.84  2712.00\n",
      "Fibonacci  2371.88  2421.53  2452.21       2501.86  2551.51  2582.19  2631.84\n",
      "Camarilla  2496.45  2508.36  2520.28       2501.86  2544.10  2556.02  2567.93\n",
      "Woodie's   2337.22  2379.46  2467.20       2509.44  2597.18  2639.42  2727.16\n",
      "DeMark's         -        -  2476.94       2514.31  2606.93        -        -]\n",
      "[                                                                                     Value  \\\n",
      "Name                                                                                         \n",
      "RSI(14)                                                                             71.431   \n",
      "STOCH(9,6)                                                                          79.264   \n",
      "STOCHRSI(14)                                                                       100.000   \n",
      "MACD(12,26)                                                                        108.920   \n",
      "ADX(14)                                                                             46.422   \n",
      "Williams %R                                                                          0.000   \n",
      "CCI(14)                                                                           144.4112   \n",
      "ATR(14)                                                                           133.1327   \n",
      "Highs/Lows(14)                                                                    350.4781   \n",
      "Ultimate Oscillator                                                                 67.817   \n",
      "ROC                                                                                 37.110   \n",
      "Bull/Bear Power(13)                                                               499.2960   \n",
      "Buy: 9 Sell: 0 Neutral: 0 Summary:Strong Buy  Buy: 9 Sell: 0 Neutral: 0 Summary:Strong Buy   \n",
      "\n",
      "                                                                                    Action  \n",
      "Name                                                                                        \n",
      "RSI(14)                                                                                Buy  \n",
      "STOCH(9,6)                                                                             Buy  \n",
      "STOCHRSI(14)                                                                    Overbought  \n",
      "MACD(12,26)                                                                            Buy  \n",
      "ADX(14)                                                                                Buy  \n",
      "Williams %R                                                                     Overbought  \n",
      "CCI(14)                                                                                Buy  \n",
      "ATR(14)                                                                    Less Volatility  \n",
      "Highs/Lows(14)                                                                         Buy  \n",
      "Ultimate Oscillator                                                                    Buy  \n",
      "ROC                                                                                    Buy  \n",
      "Bull/Bear Power(13)                                                                    Buy  \n",
      "Buy: 9 Sell: 0 Neutral: 0 Summary:Strong Buy  Buy: 9 Sell: 0 Neutral: 0 Summary:Strong Buy  ]\n",
      "[                                                  Simple  \\\n",
      "Period                                                     \n",
      "MA5                                          2453.57 Buy   \n",
      "MA10                                         2326.29 Buy   \n",
      "MA20                                         2120.36 Buy   \n",
      "MA50                                         2149.62 Buy   \n",
      "MA100                                        2539.43 Buy   \n",
      "MA200                                        2146.01 Buy   \n",
      "Buy: 12 Sell: 0 Summary:Buy  Buy: 12 Sell: 0 Summary:Buy   \n",
      "\n",
      "                                             Exponential  \n",
      "Period                                                    \n",
      "MA5                                          2468.65 Buy  \n",
      "MA10                                         2341.20 Buy  \n",
      "MA20                                         2232.17 Buy  \n",
      "MA50                                         2272.29 Buy  \n",
      "MA100                                        2263.76 Buy  \n",
      "MA200                                        2025.29 Buy  \n",
      "Buy: 12 Sell: 0 Summary:Buy  Buy: 12 Sell: 0 Summary:Buy  ]\n"
     ]
    }
   ],
   "metadata": {}
  },
  {
   "cell_type": "markdown",
   "source": [
    "## BTC Technicals (Daily)"
   ],
   "metadata": {}
  },
  {
   "cell_type": "code",
   "execution_count": null,
   "source": [
    "# Specify url and read it in with the driver\n",
    "url =('http://www.investing.com/indices/investing.com-btc-usd-technical')\n",
    "driver = webdriver.Chrome(executable_path='/Users/draganbogatic/chromedriver')\n",
    "driver.get(url)"
   ],
   "outputs": [],
   "metadata": {}
  },
  {
   "cell_type": "code",
   "execution_count": null,
   "source": [
    "# Specify daily tab to obtain daily technical data\n",
    "daily_tab = driver.find_element_by_link_text('Daily')\n",
    "daily_tab.click()"
   ],
   "outputs": [],
   "metadata": {}
  },
  {
   "cell_type": "code",
   "execution_count": null,
   "source": [
    "# Find tables by id, parse html and iterate through tables and print the list of tables\n",
    "items = driver.find_elements_by_id(\"curr_table\")\n",
    "\n",
    "for item in items:\n",
    "    table = item.get_attribute('outerHTML')\n",
    "    btc_technicals = pd.read_html(table, index_col=0)\n",
    "    print(btc_technicals)"
   ],
   "outputs": [
    {
     "output_type": "stream",
     "name": "stdout",
     "text": [
      "[                S3       S2       S1  Pivot Points       R1       R2       R3\n",
      "Name                                                                         \n",
      "Classic    35713.7  37036.1  39619.8       40942.1  43525.8  44848.1  47431.8\n",
      "Fibonacci  37036.1  38528.2  39450.0       40942.1  42434.2  43356.0  44848.1\n",
      "Camarilla  41129.3  41487.3  41845.4       40942.1  42561.5  42919.5  43277.6\n",
      "Woodie's   36344.3  37351.4  40250.4       41257.4  44156.4  45163.4  48062.4\n",
      "DeMark's         -        -  40280.9       41272.7  44186.9        -        -]\n",
      "[                                                                                     Value  \\\n",
      "Name                                                                                         \n",
      "RSI(14)                                                                             72.863   \n",
      "STOCH(9,6)                                                                          93.311   \n",
      "STOCHRSI(14)                                                                        94.953   \n",
      "MACD(12,26)                                                                       1909.700   \n",
      "ADX(14)                                                                             57.599   \n",
      "Williams %R                                                                         -1.449   \n",
      "CCI(14)                                                                           132.3834   \n",
      "ATR(14)                                                                          2018.5661   \n",
      "Highs/Lows(14)                                                                   5410.9508   \n",
      "Ultimate Oscillator                                                                 67.495   \n",
      "ROC                                                                                 32.675   \n",
      "Bull/Bear Power(13)                                                              8851.0110   \n",
      "Buy: 8 Sell: 0 Neutral: 0 Summary:Strong Buy  Buy: 8 Sell: 0 Neutral: 0 Summary:Strong Buy   \n",
      "\n",
      "                                                                                    Action  \n",
      "Name                                                                                        \n",
      "RSI(14)                                                                                Buy  \n",
      "STOCH(9,6)                                                                      Overbought  \n",
      "STOCHRSI(14)                                                                    Overbought  \n",
      "MACD(12,26)                                                                            Buy  \n",
      "ADX(14)                                                                                Buy  \n",
      "Williams %R                                                                     Overbought  \n",
      "CCI(14)                                                                                Buy  \n",
      "ATR(14)                                                                    High Volatility  \n",
      "Highs/Lows(14)                                                                         Buy  \n",
      "Ultimate Oscillator                                                                    Buy  \n",
      "ROC                                                                                    Buy  \n",
      "Bull/Bear Power(13)                                                                    Buy  \n",
      "Buy: 8 Sell: 0 Neutral: 0 Summary:Strong Buy  Buy: 8 Sell: 0 Neutral: 0 Summary:Strong Buy  ]\n",
      "[                                                  Simple  \\\n",
      "Period                                                     \n",
      "MA5                                          40695.5 Buy   \n",
      "MA10                                         37587.2 Buy   \n",
      "MA20                                         34691.7 Buy   \n",
      "MA50                                         34844.4 Buy   \n",
      "MA100                                        40069.6 Buy   \n",
      "MA200                                       44712.5 Sell   \n",
      "Buy: 11 Sell: 1 Summary:Buy  Buy: 11 Sell: 1 Summary:Buy   \n",
      "\n",
      "                                             Exponential  \n",
      "Period                                                    \n",
      "MA5                                          40287.9 Buy  \n",
      "MA10                                         38310.7 Buy  \n",
      "MA20                                         36311.0 Buy  \n",
      "MA50                                         36515.9 Buy  \n",
      "MA100                                        38785.1 Buy  \n",
      "MA200                                        38284.4 Buy  \n",
      "Buy: 11 Sell: 1 Summary:Buy  Buy: 11 Sell: 1 Summary:Buy  ]\n"
     ]
    }
   ],
   "metadata": {}
  }
 ],
 "metadata": {
  "orig_nbformat": 4,
  "language_info": {
   "name": "python",
   "version": "3.7.9",
   "mimetype": "text/x-python",
   "codemirror_mode": {
    "name": "ipython",
    "version": 3
   },
   "pygments_lexer": "ipython3",
   "nbconvert_exporter": "python",
   "file_extension": ".py"
  },
  "kernelspec": {
   "name": "python3",
   "display_name": "Python 3.7.9 64-bit ('algotrading': conda)"
  },
  "interpreter": {
   "hash": "1d1365bc7bea9ca53bbaaff2a498c5cc15b63a6fcc47bade387e2edfe7e7b068"
  }
 },
 "nbformat": 4,
 "nbformat_minor": 2
}