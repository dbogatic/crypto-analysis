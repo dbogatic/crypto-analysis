{
 "cells": [
  {
   "cell_type": "markdown",
   "source": [
    "# Web scraping Investing.com using Selenium and Chrome webdriver \n",
    "## Daily ETH and BTC Technical Data\n",
    "\n",
    "Source: \n",
    "https://medium.com/@sarfrazarshad/scraping-dynamically-created-tables-196b7cbe6c84\n",
    "\n",
    "https://stackoverflow.com/questions/53398785/pandas-read-html-valueerror-no-tables-found"
   ],
   "metadata": {}
  },
  {
   "cell_type": "code",
   "execution_count": 1,
   "source": [
    "from selenium import webdriver\n",
    "import pandas as pd"
   ],
   "outputs": [],
   "metadata": {}
  },
  {
   "cell_type": "markdown",
   "source": [
    "## ETH Technicals (Daily)"
   ],
   "metadata": {}
  },
  {
   "cell_type": "code",
   "execution_count": 2,
   "source": [
    "# Specify url that has tables \n",
    "url =('http://www.investing.com/indices/investing.com-eth-usd-technical')"
   ],
   "outputs": [],
   "metadata": {}
  },
  {
   "cell_type": "code",
   "execution_count": 3,
   "source": [
    "# Setup the webdriver\n",
    "driver = webdriver.Chrome(executable_path='/Users/draganbogatic/chromedriver')"
   ],
   "outputs": [],
   "metadata": {}
  },
  {
   "cell_type": "code",
   "execution_count": 4,
   "source": [
    "# Read in url with the driver\n",
    "driver.get(url)"
   ],
   "outputs": [],
   "metadata": {}
  },
  {
   "cell_type": "code",
   "execution_count": 5,
   "source": [
    "# Specify daily tab to obtain daily technical data\n",
    "daily_tab = driver.find_element_by_link_text('Daily')\n",
    "daily_tab.click()"
   ],
   "outputs": [],
   "metadata": {}
  },
  {
   "cell_type": "code",
   "execution_count": 6,
   "source": [
    "# Find tables by id, parse html and iterate through tables and print the list of tables\n",
    "items = driver.find_elements_by_id(\"curr_table\")\n",
    "\n",
    "for item in items:\n",
    "    table = item.get_attribute('outerHTML')\n",
    "    eth_technicals = pd.read_html(table, index_col=0)\n",
    "    print(eth_technicals)"
   ],
   "outputs": [
    {
     "output_type": "stream",
     "name": "stdout",
     "text": [
      "[                S3       S2       S1  Pivot Points       R1       R2       R3\n",
      "Name                                                                         \n",
      "Classic    2218.75  2269.77  2365.36       2416.38  2511.96  2562.99  2658.57\n",
      "Fibonacci  2269.77  2325.78  2360.38       2416.38  2472.38  2506.98  2562.99\n",
      "Camarilla  2420.63  2434.07  2447.51       2416.38  2474.39  2487.83  2501.27\n",
      "Woodie's   2241.05  2280.92  2387.66       2427.53  2534.26  2574.14  2680.87\n",
      "DeMark's         -        -  2390.88       2429.14  2537.48        -        -]\n",
      "[                                                                                     Value  \\\n",
      "Name                                                                                         \n",
      "RSI(14)                                                                             66.907   \n",
      "STOCH(9,6)                                                                          82.944   \n",
      "STOCHRSI(14)                                                                        99.716   \n",
      "MACD(12,26)                                                                         85.050   \n",
      "ADX(14)                                                                             45.735   \n",
      "Williams %R                                                                         -2.711   \n",
      "CCI(14)                                                                           130.6307   \n",
      "ATR(14)                                                                           128.4593   \n",
      "Highs/Lows(14)                                                                    263.9682   \n",
      "Ultimate Oscillator                                                                 63.690   \n",
      "ROC                                                                                 29.599   \n",
      "Bull/Bear Power(13)                                                               426.9476   \n",
      "Buy: 8 Sell: 0 Neutral: 0 Summary:Strong Buy  Buy: 8 Sell: 0 Neutral: 0 Summary:Strong Buy   \n",
      "\n",
      "                                                                                    Action  \n",
      "Name                                                                                        \n",
      "RSI(14)                                                                                Buy  \n",
      "STOCH(9,6)                                                                      Overbought  \n",
      "STOCHRSI(14)                                                                    Overbought  \n",
      "MACD(12,26)                                                                            Buy  \n",
      "ADX(14)                                                                                Buy  \n",
      "Williams %R                                                                     Overbought  \n",
      "CCI(14)                                                                                Buy  \n",
      "ATR(14)                                                                    Less Volatility  \n",
      "Highs/Lows(14)                                                                         Buy  \n",
      "Ultimate Oscillator                                                                    Buy  \n",
      "ROC                                                                                    Buy  \n",
      "Bull/Bear Power(13)                                                                    Buy  \n",
      "Buy: 8 Sell: 0 Neutral: 0 Summary:Strong Buy  Buy: 8 Sell: 0 Neutral: 0 Summary:Strong Buy  ]\n",
      "[                                                  Simple  \\\n",
      "Period                                                     \n",
      "MA5                                          2380.20 Buy   \n",
      "MA10                                         2262.03 Buy   \n",
      "MA20                                         2088.76 Buy   \n",
      "MA50                                         2143.65 Buy   \n",
      "MA100                                       2536.43 Sell   \n",
      "MA200                                        2138.31 Buy   \n",
      "Buy: 11 Sell: 1 Summary:Buy  Buy: 11 Sell: 1 Summary:Buy   \n",
      "\n",
      "                                             Exponential  \n",
      "Period                                                    \n",
      "MA5                                          2380.97 Buy  \n",
      "MA10                                         2275.66 Buy  \n",
      "MA20                                         2184.60 Buy  \n",
      "MA50                                         2253.02 Buy  \n",
      "MA100                                        2255.54 Buy  \n",
      "MA200                                        2019.21 Buy  \n",
      "Buy: 11 Sell: 1 Summary:Buy  Buy: 11 Sell: 1 Summary:Buy  ]\n"
     ]
    }
   ],
   "metadata": {}
  },
  {
   "cell_type": "markdown",
   "source": [
    "## BTC Technicals (Daily)"
   ],
   "metadata": {}
  },
  {
   "cell_type": "code",
   "execution_count": 7,
   "source": [
    "# Specify url and read it in with the driver\n",
    "url =('http://www.investing.com/indices/investing.com-btc-usd-technical')\n",
    "driver = webdriver.Chrome(executable_path='/Users/draganbogatic/chromedriver')\n",
    "driver.get(url)"
   ],
   "outputs": [],
   "metadata": {}
  },
  {
   "cell_type": "code",
   "execution_count": 44,
   "source": [
    "# Specify daily tab to obtain daily technical data\n",
    "daily_tab = driver.find_element_by_link_text('Daily')\n",
    "daily_tab.click()"
   ],
   "outputs": [],
   "metadata": {}
  },
  {
   "cell_type": "code",
   "execution_count": 45,
   "source": [
    "# Find tables by id, parse html and iterate through tables and print the list of tables\n",
    "items = driver.find_elements_by_id(\"curr_table\")\n",
    "\n",
    "for item in items:\n",
    "    table = item.get_attribute('outerHTML')\n",
    "    btc_technicals = pd.read_html(table, index_col=0)\n",
    "    print(btc_technicals)"
   ],
   "outputs": [
    {
     "output_type": "stream",
     "name": "stdout",
     "text": [
      "[                S3       S2       S1  Pivot Points       R1       R2       R3\n",
      "Name                                                                         \n",
      "Classic    35713.7  37036.1  39619.8       40942.1  43525.8  44848.1  47431.8\n",
      "Fibonacci  37036.1  38528.2  39450.0       40942.1  42434.2  43356.0  44848.1\n",
      "Camarilla  41129.3  41487.3  41845.4       40942.1  42561.5  42919.5  43277.6\n",
      "Woodie's   36344.3  37351.4  40250.4       41257.4  44156.4  45163.4  48062.4\n",
      "DeMark's         -        -  40280.9       41272.7  44186.9        -        -]\n",
      "[                                                                                     Value  \\\n",
      "Name                                                                                         \n",
      "RSI(14)                                                                             73.602   \n",
      "STOCH(9,6)                                                                          93.384   \n",
      "STOCHRSI(14)                                                                        96.765   \n",
      "MACD(12,26)                                                                       1920.900   \n",
      "ADX(14)                                                                             57.599   \n",
      "Williams %R                                                                         -1.012   \n",
      "CCI(14)                                                                           133.1306   \n",
      "ATR(14)                                                                          2018.5661   \n",
      "Highs/Lows(14)                                                                   5552.0054   \n",
      "Ultimate Oscillator                                                                 68.135   \n",
      "ROC                                                                                 33.123   \n",
      "Bull/Bear Power(13)                                                              8810.7110   \n",
      "Buy: 8 Sell: 0 Neutral: 0 Summary:Strong Buy  Buy: 8 Sell: 0 Neutral: 0 Summary:Strong Buy   \n",
      "\n",
      "                                                                                    Action  \n",
      "Name                                                                                        \n",
      "RSI(14)                                                                                Buy  \n",
      "STOCH(9,6)                                                                      Overbought  \n",
      "STOCHRSI(14)                                                                    Overbought  \n",
      "MACD(12,26)                                                                            Buy  \n",
      "ADX(14)                                                                                Buy  \n",
      "Williams %R                                                                     Overbought  \n",
      "CCI(14)                                                                                Buy  \n",
      "ATR(14)                                                                    High Volatility  \n",
      "Highs/Lows(14)                                                                         Buy  \n",
      "Ultimate Oscillator                                                                    Buy  \n",
      "ROC                                                                                    Buy  \n",
      "Bull/Bear Power(13)                                                                    Buy  \n",
      "Buy: 8 Sell: 0 Neutral: 0 Summary:Strong Buy  Buy: 8 Sell: 0 Neutral: 0 Summary:Strong Buy  ]\n",
      "[                                                  Simple  \\\n",
      "Period                                                     \n",
      "MA5                                          40723.7 Buy   \n",
      "MA10                                         37601.3 Buy   \n",
      "MA20                                         34698.8 Buy   \n",
      "MA50                                         34847.2 Buy   \n",
      "MA100                                        40071.0 Buy   \n",
      "MA200                                       44713.2 Sell   \n",
      "Buy: 11 Sell: 1 Summary:Buy  Buy: 11 Sell: 1 Summary:Buy   \n",
      "\n",
      "                                             Exponential  \n",
      "Period                                                    \n",
      "MA5                                          40335.0 Buy  \n",
      "MA10                                         38336.3 Buy  \n",
      "MA20                                         36324.4 Buy  \n",
      "MA50                                         36521.4 Buy  \n",
      "MA100                                        38787.9 Buy  \n",
      "MA200                                        38285.8 Buy  \n",
      "Buy: 11 Sell: 1 Summary:Buy  Buy: 11 Sell: 1 Summary:Buy  ]\n"
     ]
    }
   ],
   "metadata": {}
  }
 ],
 "metadata": {
  "orig_nbformat": 4,
  "language_info": {
   "name": "python",
   "version": "3.7.9",
   "mimetype": "text/x-python",
   "codemirror_mode": {
    "name": "ipython",
    "version": 3
   },
   "pygments_lexer": "ipython3",
   "nbconvert_exporter": "python",
   "file_extension": ".py"
  },
  "kernelspec": {
   "name": "python3",
   "display_name": "Python 3.7.9 64-bit ('algotrading': conda)"
  },
  "interpreter": {
   "hash": "1d1365bc7bea9ca53bbaaff2a498c5cc15b63a6fcc47bade387e2edfe7e7b068"
  }
 },
 "nbformat": 4,
 "nbformat_minor": 2
}