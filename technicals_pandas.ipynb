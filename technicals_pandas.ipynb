{
 "cells": [
  {
   "cell_type": "markdown",
   "metadata": {},
   "source": [
    "# Technical Analysis using Pandas library [pandas-ta](https://pypi.org/project/pandas-ta/)"
   ]
  },
  {
   "cell_type": "code",
   "execution_count": 1,
   "metadata": {},
   "outputs": [],
   "source": [
    "import pandas as pd\n",
    "import pandas_ta as pta\n",
    "import matplotlib\n",
    "import matplotlib.pyplot as plt\n",
    "import datetime as dt\n",
    "import time\n",
    "%matplotlib inline"
   ]
  },
  {
   "cell_type": "code",
   "execution_count": 2,
   "metadata": {},
   "outputs": [
    {
     "data": {
      "text/html": [
       "<div>\n",
       "<style scoped>\n",
       "    .dataframe tbody tr th:only-of-type {\n",
       "        vertical-align: middle;\n",
       "    }\n",
       "\n",
       "    .dataframe tbody tr th {\n",
       "        vertical-align: top;\n",
       "    }\n",
       "\n",
       "    .dataframe thead th {\n",
       "        text-align: right;\n",
       "    }\n",
       "</style>\n",
       "<table border=\"1\" class=\"dataframe\">\n",
       "  <thead>\n",
       "    <tr style=\"text-align: right;\">\n",
       "      <th></th>\n",
       "      <th>asset</th>\n",
       "      <th>AdrActCnt</th>\n",
       "      <th>CapMVRVCur</th>\n",
       "      <th>CapMrktCurUSD</th>\n",
       "      <th>HashRate</th>\n",
       "      <th>NVTAdj</th>\n",
       "      <th>PriceUSD</th>\n",
       "      <th>SplyCur</th>\n",
       "      <th>TxCnt</th>\n",
       "      <th>TxTfrValAdjUSD</th>\n",
       "      <th>VelCur1yr</th>\n",
       "    </tr>\n",
       "    <tr>\n",
       "      <th>time</th>\n",
       "      <th></th>\n",
       "      <th></th>\n",
       "      <th></th>\n",
       "      <th></th>\n",
       "      <th></th>\n",
       "      <th></th>\n",
       "      <th></th>\n",
       "      <th></th>\n",
       "      <th></th>\n",
       "      <th></th>\n",
       "      <th></th>\n",
       "    </tr>\n",
       "  </thead>\n",
       "  <tbody>\n",
       "    <tr>\n",
       "      <th>2021-08-09</th>\n",
       "      <td>eth</td>\n",
       "      <td>515126</td>\n",
       "      <td>1.951959</td>\n",
       "      <td>3.695840e+11</td>\n",
       "      <td>580.355844</td>\n",
       "      <td>31.030022</td>\n",
       "      <td>3158.269216</td>\n",
       "      <td>1.170210e+08</td>\n",
       "      <td>1218594</td>\n",
       "      <td>1.191053e+10</td>\n",
       "      <td>22.280265</td>\n",
       "    </tr>\n",
       "    <tr>\n",
       "      <th>2021-08-10</th>\n",
       "      <td>eth</td>\n",
       "      <td>521467</td>\n",
       "      <td>1.938214</td>\n",
       "      <td>3.676737e+11</td>\n",
       "      <td>592.190498</td>\n",
       "      <td>44.894891</td>\n",
       "      <td>3141.723826</td>\n",
       "      <td>1.170293e+08</td>\n",
       "      <td>1212289</td>\n",
       "      <td>8.189655e+09</td>\n",
       "      <td>22.260330</td>\n",
       "    </tr>\n",
       "    <tr>\n",
       "      <th>2021-08-11</th>\n",
       "      <td>eth</td>\n",
       "      <td>524068</td>\n",
       "      <td>1.938669</td>\n",
       "      <td>3.708403e+11</td>\n",
       "      <td>571.476358</td>\n",
       "      <td>49.185052</td>\n",
       "      <td>3168.562989</td>\n",
       "      <td>1.170374e+08</td>\n",
       "      <td>1234409</td>\n",
       "      <td>7.539695e+09</td>\n",
       "      <td>22.249983</td>\n",
       "    </tr>\n",
       "    <tr>\n",
       "      <th>2021-08-12</th>\n",
       "      <td>eth</td>\n",
       "      <td>527453</td>\n",
       "      <td>1.875548</td>\n",
       "      <td>3.555929e+11</td>\n",
       "      <td>584.045015</td>\n",
       "      <td>43.633359</td>\n",
       "      <td>3038.061527</td>\n",
       "      <td>1.170460e+08</td>\n",
       "      <td>1195283</td>\n",
       "      <td>8.149565e+09</td>\n",
       "      <td>22.229124</td>\n",
       "    </tr>\n",
       "    <tr>\n",
       "      <th>2021-08-13</th>\n",
       "      <td>eth</td>\n",
       "      <td>522903</td>\n",
       "      <td>1.993139</td>\n",
       "      <td>3.882095e+11</td>\n",
       "      <td>580.968024</td>\n",
       "      <td>44.668383</td>\n",
       "      <td>3316.478942</td>\n",
       "      <td>1.170547e+08</td>\n",
       "      <td>1197050</td>\n",
       "      <td>8.690924e+09</td>\n",
       "      <td>22.204767</td>\n",
       "    </tr>\n",
       "  </tbody>\n",
       "</table>\n",
       "</div>"
      ],
      "text/plain": [
       "           asset  AdrActCnt  CapMVRVCur  CapMrktCurUSD    HashRate     NVTAdj  \\\n",
       "time                                                                            \n",
       "2021-08-09   eth     515126    1.951959   3.695840e+11  580.355844  31.030022   \n",
       "2021-08-10   eth     521467    1.938214   3.676737e+11  592.190498  44.894891   \n",
       "2021-08-11   eth     524068    1.938669   3.708403e+11  571.476358  49.185052   \n",
       "2021-08-12   eth     527453    1.875548   3.555929e+11  584.045015  43.633359   \n",
       "2021-08-13   eth     522903    1.993139   3.882095e+11  580.968024  44.668383   \n",
       "\n",
       "               PriceUSD       SplyCur    TxCnt  TxTfrValAdjUSD  VelCur1yr  \n",
       "time                                                                       \n",
       "2021-08-09  3158.269216  1.170210e+08  1218594    1.191053e+10  22.280265  \n",
       "2021-08-10  3141.723826  1.170293e+08  1212289    8.189655e+09  22.260330  \n",
       "2021-08-11  3168.562989  1.170374e+08  1234409    7.539695e+09  22.249983  \n",
       "2021-08-12  3038.061527  1.170460e+08  1195283    8.149565e+09  22.229124  \n",
       "2021-08-13  3316.478942  1.170547e+08  1197050    8.690924e+09  22.204767  "
      ]
     },
     "execution_count": 2,
     "metadata": {},
     "output_type": "execute_result"
    }
   ],
   "source": [
    "metrics_eth = pd.read_csv('/Users/draganbogatic/Documents/Fin_Tech/crypto-analysis/resources/eth_annual_metrics/combined.csv', index_col='time')\n",
    "metrics_eth = metrics_eth.reset_index()\n",
    "metrics_eth['time'] = pd.to_datetime(metrics_eth['time']).dt.date\n",
    "metrics_eth = metrics_eth.set_index('time').drop(columns='Unnamed: 0')\n",
    "\n",
    "metrics_eth.tail()"
   ]
  },
  {
   "cell_type": "markdown",
   "metadata": {},
   "source": [
    "# Relative Strength Index - RSI"
   ]
  },
  {
   "cell_type": "code",
   "execution_count": 3,
   "metadata": {},
   "outputs": [],
   "source": [
    "rsi_eth = pta.rsi(metrics_eth['PriceUSD'],length=14).dropna()\n",
    "rsi_eth\n",
    "rsi_eth.to_csv('resources/rsi_eth.csv')"
   ]
  },
  {
   "cell_type": "code",
   "execution_count": 4,
   "metadata": {},
   "outputs": [
    {
     "data": {
      "text/plain": [
       "<matplotlib.legend.Legend at 0x7f7d72fd2d10>"
      ]
     },
     "execution_count": 4,
     "metadata": {},
     "output_type": "execute_result"
    },
    {
     "data": {
      "image/png": "[encoded data removed]",
      "text/plain": [
       "<Figure size 864x504 with 1 Axes>"
      ]
     },
     "metadata": {
      "needs_background": "light"
     },
     "output_type": "display_data"
    }
   ],
   "source": [
    "rsi_eth.plot(title = 'ETH RSI', rot=45,figsize=(12,7), ylabel='RSI index')\n",
    "plt.axhline(70,color='r', label='70% RSI')\n",
    "plt.axhline(30,color='g', label='30% RSI')\n",
    "plt.axhline(rsi_eth.iloc[-1], color='b', label='current RSI')\n",
    "plt.legend(loc='best')"
   ]
  },
  {
   "cell_type": "code",
   "execution_count": 5,
   "metadata": {},
   "outputs": [
    {
     "data": {
      "text/html": [
       "<div>\n",
       "<style scoped>\n",
       "    .dataframe tbody tr th:only-of-type {\n",
       "        vertical-align: middle;\n",
       "    }\n",
       "\n",
       "    .dataframe tbody tr th {\n",
       "        vertical-align: top;\n",
       "    }\n",
       "\n",
       "    .dataframe thead th {\n",
       "        text-align: right;\n",
       "    }\n",
       "</style>\n",
       "<table border=\"1\" class=\"dataframe\">\n",
       "  <thead>\n",
       "    <tr style=\"text-align: right;\">\n",
       "      <th></th>\n",
       "      <th>asset</th>\n",
       "      <th>AdrActCnt</th>\n",
       "      <th>CapMVRVCur</th>\n",
       "      <th>CapMrktCurUSD</th>\n",
       "      <th>HashRate</th>\n",
       "      <th>NVTAdj</th>\n",
       "      <th>PriceUSD</th>\n",
       "      <th>SplyCur</th>\n",
       "      <th>TxCnt</th>\n",
       "      <th>TxTfrValAdjUSD</th>\n",
       "      <th>VelCur1yr</th>\n",
       "    </tr>\n",
       "    <tr>\n",
       "      <th>time</th>\n",
       "      <th></th>\n",
       "      <th></th>\n",
       "      <th></th>\n",
       "      <th></th>\n",
       "      <th></th>\n",
       "      <th></th>\n",
       "      <th></th>\n",
       "      <th></th>\n",
       "      <th></th>\n",
       "      <th></th>\n",
       "      <th></th>\n",
       "    </tr>\n",
       "  </thead>\n",
       "  <tbody>\n",
       "    <tr>\n",
       "      <th>2021-08-09</th>\n",
       "      <td>btc</td>\n",
       "      <td>934412.0</td>\n",
       "      <td>2.303684</td>\n",
       "      <td>8.689260e+11</td>\n",
       "      <td>1.095346e+08</td>\n",
       "      <td>65.662747</td>\n",
       "      <td>46265.642456</td>\n",
       "      <td>1.878124e+07</td>\n",
       "      <td>254532.0</td>\n",
       "      <td>1.323317e+10</td>\n",
       "      <td>11.448542</td>\n",
       "    </tr>\n",
       "    <tr>\n",
       "      <th>2021-08-10</th>\n",
       "      <td>btc</td>\n",
       "      <td>875882.0</td>\n",
       "      <td>2.261489</td>\n",
       "      <td>8.543827e+11</td>\n",
       "      <td>1.189026e+08</td>\n",
       "      <td>108.761283</td>\n",
       "      <td>45488.791262</td>\n",
       "      <td>1.878227e+07</td>\n",
       "      <td>259626.0</td>\n",
       "      <td>7.855578e+09</td>\n",
       "      <td>11.449157</td>\n",
       "    </tr>\n",
       "    <tr>\n",
       "      <th>2021-08-11</th>\n",
       "      <td>btc</td>\n",
       "      <td>866724.0</td>\n",
       "      <td>2.268173</td>\n",
       "      <td>8.579470e+11</td>\n",
       "      <td>1.059314e+08</td>\n",
       "      <td>96.846956</td>\n",
       "      <td>45676.326361</td>\n",
       "      <td>1.878319e+07</td>\n",
       "      <td>261571.0</td>\n",
       "      <td>8.858792e+09</td>\n",
       "      <td>11.456478</td>\n",
       "    </tr>\n",
       "    <tr>\n",
       "      <th>2021-08-12</th>\n",
       "      <td>btc</td>\n",
       "      <td>842547.0</td>\n",
       "      <td>2.203437</td>\n",
       "      <td>8.341234e+11</td>\n",
       "      <td>1.088139e+08</td>\n",
       "      <td>116.853743</td>\n",
       "      <td>44405.748348</td>\n",
       "      <td>1.878413e+07</td>\n",
       "      <td>252677.0</td>\n",
       "      <td>7.138183e+09</td>\n",
       "      <td>11.438630</td>\n",
       "    </tr>\n",
       "    <tr>\n",
       "      <th>2021-08-13</th>\n",
       "      <td>btc</td>\n",
       "      <td>NaN</td>\n",
       "      <td>NaN</td>\n",
       "      <td>8.963739e+11</td>\n",
       "      <td>NaN</td>\n",
       "      <td>NaN</td>\n",
       "      <td>47717.485356</td>\n",
       "      <td>1.878502e+07</td>\n",
       "      <td>NaN</td>\n",
       "      <td>NaN</td>\n",
       "      <td>11.404661</td>\n",
       "    </tr>\n",
       "  </tbody>\n",
       "</table>\n",
       "</div>"
      ],
      "text/plain": [
       "           asset  AdrActCnt  CapMVRVCur  CapMrktCurUSD      HashRate  \\\n",
       "time                                                                   \n",
       "2021-08-09   btc   934412.0    2.303684   8.689260e+11  1.095346e+08   \n",
       "2021-08-10   btc   875882.0    2.261489   8.543827e+11  1.189026e+08   \n",
       "2021-08-11   btc   866724.0    2.268173   8.579470e+11  1.059314e+08   \n",
       "2021-08-12   btc   842547.0    2.203437   8.341234e+11  1.088139e+08   \n",
       "2021-08-13   btc        NaN         NaN   8.963739e+11           NaN   \n",
       "\n",
       "                NVTAdj      PriceUSD       SplyCur     TxCnt  TxTfrValAdjUSD  \\\n",
       "time                                                                           \n",
       "2021-08-09   65.662747  46265.642456  1.878124e+07  254532.0    1.323317e+10   \n",
       "2021-08-10  108.761283  45488.791262  1.878227e+07  259626.0    7.855578e+09   \n",
       "2021-08-11   96.846956  45676.326361  1.878319e+07  261571.0    8.858792e+09   \n",
       "2021-08-12  116.853743  44405.748348  1.878413e+07  252677.0    7.138183e+09   \n",
       "2021-08-13         NaN  47717.485356  1.878502e+07       NaN             NaN   \n",
       "\n",
       "            VelCur1yr  \n",
       "time                   \n",
       "2021-08-09  11.448542  \n",
       "2021-08-10  11.449157  \n",
       "2021-08-11  11.456478  \n",
       "2021-08-12  11.438630  \n",
       "2021-08-13  11.404661  "
      ]
     },
     "execution_count": 5,
     "metadata": {},
     "output_type": "execute_result"
    }
   ],
   "source": [
    "metrics_btc = pd.read_csv('/Users/draganbogatic/Documents/Fin_Tech/crypto-analysis/resources/btc_annual_metrics/combined.csv', index_col='time')\n",
    "metrics_btc = metrics_btc.reset_index()\n",
    "metrics_btc['time'] = pd.to_datetime(metrics_btc['time']).dt.date\n",
    "metrics_btc = metrics_btc.set_index('time').drop(columns='Unnamed: 0')\n",
    "\n",
    "metrics_btc.tail()"
   ]
  },
  {
   "cell_type": "code",
   "execution_count": 6,
   "metadata": {},
   "outputs": [],
   "source": [
    "rsi_btc = pta.rsi(metrics_btc['PriceUSD'],length=14).dropna()\n",
    "rsi_btc\n",
    "rsi_btc.to_csv('resources/rsi_btc.csv')"
   ]
  },
  {
   "cell_type": "code",
   "execution_count": 7,
   "metadata": {},
   "outputs": [
    {
     "data": {
      "text/plain": [
       "<matplotlib.legend.Legend at 0x7f7d7388de10>"
      ]
     },
     "execution_count": 7,
     "metadata": {},
     "output_type": "execute_result"
    },
    {
     "data": {
      "image/png": "[encoded data removed]",
      "text/plain": [
       "<Figure size 864x504 with 1 Axes>"
      ]
     },
     "metadata": {
      "needs_background": "light"
     },
     "output_type": "display_data"
    }
   ],
   "source": [
    "rsi_btc.plot(title = 'BTC RSI', rot=45,figsize=(12,7), ylabel='RSI index')\n",
    "plt.axhline(70,color='r', label='70% RSI')\n",
    "plt.axhline(30,color='g', label='30% RSI')\n",
    "plt.axhline(rsi_btc.iloc[-1], color='b', label='current RSI')\n",
    "plt.legend(loc='best')"
   ]
  },
  {
   "cell_type": "markdown",
   "metadata": {},
   "source": [
    "# Rate of Change - ROC"
   ]
  },
  {
   "cell_type": "code",
   "execution_count": 8,
   "metadata": {},
   "outputs": [
    {
     "data": {
      "text/plain": [
       "time\n",
       "2016-01-15    40.257836\n",
       "2016-01-16    27.558185\n",
       "2016-01-17    36.974993\n",
       "2016-01-18    54.341493\n",
       "2016-01-19    43.544091\n",
       "Name: ROC_14, dtype: float64"
      ]
     },
     "execution_count": 8,
     "metadata": {},
     "output_type": "execute_result"
    }
   ],
   "source": [
    "roc_eth = pta.roc(metrics_eth['PriceUSD'],length=14).dropna()\n",
    "roc_eth.to_csv('resources/roc_eth.csv')\n",
    "roc_eth.head()"
   ]
  },
  {
   "cell_type": "code",
   "execution_count": 9,
   "metadata": {},
   "outputs": [
    {
     "data": {
      "text/plain": [
       "time\n",
       "2010-08-01   -28.821062\n",
       "2010-08-02   -25.742574\n",
       "2010-08-03   -19.700856\n",
       "2010-08-04   -28.003890\n",
       "2010-08-05     4.327433\n",
       "Name: ROC_14, dtype: float64"
      ]
     },
     "execution_count": 9,
     "metadata": {},
     "output_type": "execute_result"
    }
   ],
   "source": [
    "roc_btc = pta.roc(metrics_btc['PriceUSD'],length=14).dropna()\n",
    "roc_btc.to_csv('resources/roc_btc.csv')\n",
    "roc_btc.head()\n"
   ]
  },
  {
   "cell_type": "markdown",
   "metadata": {},
   "source": [
    "# Stochastic RSI - STOCHRSI"
   ]
  },
  {
   "cell_type": "code",
   "execution_count": 10,
   "metadata": {},
   "outputs": [
    {
     "data": {
      "text/html": [
       "<div>\n",
       "<style scoped>\n",
       "    .dataframe tbody tr th:only-of-type {\n",
       "        vertical-align: middle;\n",
       "    }\n",
       "\n",
       "    .dataframe tbody tr th {\n",
       "        vertical-align: top;\n",
       "    }\n",
       "\n",
       "    .dataframe thead th {\n",
       "        text-align: right;\n",
       "    }\n",
       "</style>\n",
       "<table border=\"1\" class=\"dataframe\">\n",
       "  <thead>\n",
       "    <tr style=\"text-align: right;\">\n",
       "      <th></th>\n",
       "      <th>STOCHRSIk_14_14_3_3</th>\n",
       "      <th>STOCHRSId_14_14_3_3</th>\n",
       "    </tr>\n",
       "    <tr>\n",
       "      <th>time</th>\n",
       "      <th></th>\n",
       "      <th></th>\n",
       "    </tr>\n",
       "  </thead>\n",
       "  <tbody>\n",
       "    <tr>\n",
       "      <th>2016-02-01</th>\n",
       "      <td>12.255849</td>\n",
       "      <td>30.743114</td>\n",
       "    </tr>\n",
       "    <tr>\n",
       "      <th>2016-02-02</th>\n",
       "      <td>7.610820</td>\n",
       "      <td>16.258663</td>\n",
       "    </tr>\n",
       "    <tr>\n",
       "      <th>2016-02-03</th>\n",
       "      <td>17.160092</td>\n",
       "      <td>12.342254</td>\n",
       "    </tr>\n",
       "    <tr>\n",
       "      <th>2016-02-04</th>\n",
       "      <td>27.179540</td>\n",
       "      <td>17.316817</td>\n",
       "    </tr>\n",
       "    <tr>\n",
       "      <th>2016-02-05</th>\n",
       "      <td>29.944141</td>\n",
       "      <td>24.761257</td>\n",
       "    </tr>\n",
       "  </tbody>\n",
       "</table>\n",
       "</div>"
      ],
      "text/plain": [
       "            STOCHRSIk_14_14_3_3  STOCHRSId_14_14_3_3\n",
       "time                                                \n",
       "2016-02-01            12.255849            30.743114\n",
       "2016-02-02             7.610820            16.258663\n",
       "2016-02-03            17.160092            12.342254\n",
       "2016-02-04            27.179540            17.316817\n",
       "2016-02-05            29.944141            24.761257"
      ]
     },
     "execution_count": 10,
     "metadata": {},
     "output_type": "execute_result"
    }
   ],
   "source": [
    "stochrsi_btc = pta.stochrsi(metrics_eth['PriceUSD'],length=14).dropna()\n",
    "stochrsi_btc.to_csv('resources/stochrsi_eth.csv')\n",
    "stochrsi_btc.head()"
   ]
  },
  {
   "cell_type": "code",
   "execution_count": 11,
   "metadata": {},
   "outputs": [
    {
     "data": {
      "text/html": [
       "<div>\n",
       "<style scoped>\n",
       "    .dataframe tbody tr th:only-of-type {\n",
       "        vertical-align: middle;\n",
       "    }\n",
       "\n",
       "    .dataframe tbody tr th {\n",
       "        vertical-align: top;\n",
       "    }\n",
       "\n",
       "    .dataframe thead th {\n",
       "        text-align: right;\n",
       "    }\n",
       "</style>\n",
       "<table border=\"1\" class=\"dataframe\">\n",
       "  <thead>\n",
       "    <tr style=\"text-align: right;\">\n",
       "      <th></th>\n",
       "      <th>STOCHRSIk_14_14_3_3</th>\n",
       "      <th>STOCHRSId_14_14_3_3</th>\n",
       "    </tr>\n",
       "    <tr>\n",
       "      <th>time</th>\n",
       "      <th></th>\n",
       "      <th></th>\n",
       "    </tr>\n",
       "  </thead>\n",
       "  <tbody>\n",
       "    <tr>\n",
       "      <th>2010-08-18</th>\n",
       "      <td>88.038824</td>\n",
       "      <td>84.486600</td>\n",
       "    </tr>\n",
       "    <tr>\n",
       "      <th>2010-08-19</th>\n",
       "      <td>86.971421</td>\n",
       "      <td>86.645592</td>\n",
       "    </tr>\n",
       "    <tr>\n",
       "      <th>2010-08-20</th>\n",
       "      <td>75.822128</td>\n",
       "      <td>83.610791</td>\n",
       "    </tr>\n",
       "    <tr>\n",
       "      <th>2010-08-21</th>\n",
       "      <td>70.962850</td>\n",
       "      <td>77.918800</td>\n",
       "    </tr>\n",
       "    <tr>\n",
       "      <th>2010-08-22</th>\n",
       "      <td>58.592519</td>\n",
       "      <td>68.459166</td>\n",
       "    </tr>\n",
       "  </tbody>\n",
       "</table>\n",
       "</div>"
      ],
      "text/plain": [
       "            STOCHRSIk_14_14_3_3  STOCHRSId_14_14_3_3\n",
       "time                                                \n",
       "2010-08-18            88.038824            84.486600\n",
       "2010-08-19            86.971421            86.645592\n",
       "2010-08-20            75.822128            83.610791\n",
       "2010-08-21            70.962850            77.918800\n",
       "2010-08-22            58.592519            68.459166"
      ]
     },
     "execution_count": 11,
     "metadata": {},
     "output_type": "execute_result"
    }
   ],
   "source": [
    "stochrsi_btc = pta.stochrsi(metrics_btc['PriceUSD'],length=14).dropna()\n",
    "stochrsi_btc.to_csv('resources/stochrsi_btc.csv')\n",
    "stochrsi_btc.head()"
   ]
  },
  {
   "cell_type": "markdown",
   "metadata": {},
   "source": [
    "# Money Flow Index - MFI"
   ]
  },
  {
   "cell_type": "code",
   "execution_count": 12,
   "metadata": {},
   "outputs": [
    {
     "data": {
      "text/html": [
       "<div>\n",
       "<style scoped>\n",
       "    .dataframe tbody tr th:only-of-type {\n",
       "        vertical-align: middle;\n",
       "    }\n",
       "\n",
       "    .dataframe tbody tr th {\n",
       "        vertical-align: top;\n",
       "    }\n",
       "\n",
       "    .dataframe thead th {\n",
       "        text-align: right;\n",
       "    }\n",
       "</style>\n",
       "<table border=\"1\" class=\"dataframe\">\n",
       "  <thead>\n",
       "    <tr style=\"text-align: right;\">\n",
       "      <th></th>\n",
       "      <th>Open</th>\n",
       "      <th>High</th>\n",
       "      <th>Low</th>\n",
       "      <th>Close</th>\n",
       "      <th>Adj Close</th>\n",
       "      <th>Volume</th>\n",
       "    </tr>\n",
       "    <tr>\n",
       "      <th>Date</th>\n",
       "      <th></th>\n",
       "      <th></th>\n",
       "      <th></th>\n",
       "      <th></th>\n",
       "      <th></th>\n",
       "      <th></th>\n",
       "    </tr>\n",
       "  </thead>\n",
       "  <tbody>\n",
       "    <tr>\n",
       "      <th>2015-08-07</th>\n",
       "      <td>2.831620</td>\n",
       "      <td>3.536610</td>\n",
       "      <td>2.521120</td>\n",
       "      <td>2.772120</td>\n",
       "      <td>2.772120</td>\n",
       "      <td>164329.0</td>\n",
       "    </tr>\n",
       "    <tr>\n",
       "      <th>2015-08-08</th>\n",
       "      <td>2.793760</td>\n",
       "      <td>2.798810</td>\n",
       "      <td>0.714725</td>\n",
       "      <td>0.753325</td>\n",
       "      <td>0.753325</td>\n",
       "      <td>674188.0</td>\n",
       "    </tr>\n",
       "    <tr>\n",
       "      <th>2015-08-09</th>\n",
       "      <td>0.706136</td>\n",
       "      <td>0.879810</td>\n",
       "      <td>0.629191</td>\n",
       "      <td>0.701897</td>\n",
       "      <td>0.701897</td>\n",
       "      <td>532170.0</td>\n",
       "    </tr>\n",
       "    <tr>\n",
       "      <th>2015-08-10</th>\n",
       "      <td>0.713989</td>\n",
       "      <td>0.729854</td>\n",
       "      <td>0.636546</td>\n",
       "      <td>0.708448</td>\n",
       "      <td>0.708448</td>\n",
       "      <td>405283.0</td>\n",
       "    </tr>\n",
       "    <tr>\n",
       "      <th>2015-08-11</th>\n",
       "      <td>0.708087</td>\n",
       "      <td>1.131410</td>\n",
       "      <td>0.663235</td>\n",
       "      <td>1.067860</td>\n",
       "      <td>1.067860</td>\n",
       "      <td>1463100.0</td>\n",
       "    </tr>\n",
       "  </tbody>\n",
       "</table>\n",
       "</div>"
      ],
      "text/plain": [
       "                Open      High       Low     Close  Adj Close     Volume\n",
       "Date                                                                    \n",
       "2015-08-07  2.831620  3.536610  2.521120  2.772120   2.772120   164329.0\n",
       "2015-08-08  2.793760  2.798810  0.714725  0.753325   0.753325   674188.0\n",
       "2015-08-09  0.706136  0.879810  0.629191  0.701897   0.701897   532170.0\n",
       "2015-08-10  0.713989  0.729854  0.636546  0.708448   0.708448   405283.0\n",
       "2015-08-11  0.708087  1.131410  0.663235  1.067860   1.067860  1463100.0"
      ]
     },
     "execution_count": 12,
     "metadata": {},
     "output_type": "execute_result"
    }
   ],
   "source": [
    "eth_history = pd.read_csv('/Users/draganbogatic/Documents/Fin_Tech/crypto-analysis/resources/ETH-USD.csv', parse_dates=True, index_col='Date')\n",
    "eth_history.head()"
   ]
  },
  {
   "cell_type": "code",
   "execution_count": 13,
   "metadata": {},
   "outputs": [
    {
     "data": {
      "text/html": [
       "<div>\n",
       "<style scoped>\n",
       "    .dataframe tbody tr th:only-of-type {\n",
       "        vertical-align: middle;\n",
       "    }\n",
       "\n",
       "    .dataframe tbody tr th {\n",
       "        vertical-align: top;\n",
       "    }\n",
       "\n",
       "    .dataframe thead th {\n",
       "        text-align: right;\n",
       "    }\n",
       "</style>\n",
       "<table border=\"1\" class=\"dataframe\">\n",
       "  <thead>\n",
       "    <tr style=\"text-align: right;\">\n",
       "      <th></th>\n",
       "      <th>Open</th>\n",
       "      <th>High</th>\n",
       "      <th>Low</th>\n",
       "      <th>Close</th>\n",
       "      <th>Adj Close</th>\n",
       "      <th>Volume</th>\n",
       "    </tr>\n",
       "    <tr>\n",
       "      <th>Date</th>\n",
       "      <th></th>\n",
       "      <th></th>\n",
       "      <th></th>\n",
       "      <th></th>\n",
       "      <th></th>\n",
       "      <th></th>\n",
       "    </tr>\n",
       "  </thead>\n",
       "  <tbody>\n",
       "    <tr>\n",
       "      <th>2014-09-17</th>\n",
       "      <td>465.864014</td>\n",
       "      <td>468.174011</td>\n",
       "      <td>452.421997</td>\n",
       "      <td>457.334015</td>\n",
       "      <td>457.334015</td>\n",
       "      <td>21056800.0</td>\n",
       "    </tr>\n",
       "    <tr>\n",
       "      <th>2014-09-18</th>\n",
       "      <td>456.859985</td>\n",
       "      <td>456.859985</td>\n",
       "      <td>413.104004</td>\n",
       "      <td>424.440002</td>\n",
       "      <td>424.440002</td>\n",
       "      <td>34483200.0</td>\n",
       "    </tr>\n",
       "    <tr>\n",
       "      <th>2014-09-19</th>\n",
       "      <td>424.102997</td>\n",
       "      <td>427.834991</td>\n",
       "      <td>384.532013</td>\n",
       "      <td>394.795990</td>\n",
       "      <td>394.795990</td>\n",
       "      <td>37919700.0</td>\n",
       "    </tr>\n",
       "    <tr>\n",
       "      <th>2014-09-20</th>\n",
       "      <td>394.673004</td>\n",
       "      <td>423.295990</td>\n",
       "      <td>389.882996</td>\n",
       "      <td>408.903992</td>\n",
       "      <td>408.903992</td>\n",
       "      <td>36863600.0</td>\n",
       "    </tr>\n",
       "    <tr>\n",
       "      <th>2014-09-21</th>\n",
       "      <td>408.084991</td>\n",
       "      <td>412.425995</td>\n",
       "      <td>393.181000</td>\n",
       "      <td>398.821014</td>\n",
       "      <td>398.821014</td>\n",
       "      <td>26580100.0</td>\n",
       "    </tr>\n",
       "  </tbody>\n",
       "</table>\n",
       "</div>"
      ],
      "text/plain": [
       "                  Open        High         Low       Close   Adj Close  \\\n",
       "Date                                                                     \n",
       "2014-09-17  465.864014  468.174011  452.421997  457.334015  457.334015   \n",
       "2014-09-18  456.859985  456.859985  413.104004  424.440002  424.440002   \n",
       "2014-09-19  424.102997  427.834991  384.532013  394.795990  394.795990   \n",
       "2014-09-20  394.673004  423.295990  389.882996  408.903992  408.903992   \n",
       "2014-09-21  408.084991  412.425995  393.181000  398.821014  398.821014   \n",
       "\n",
       "                Volume  \n",
       "Date                    \n",
       "2014-09-17  21056800.0  \n",
       "2014-09-18  34483200.0  \n",
       "2014-09-19  37919700.0  \n",
       "2014-09-20  36863600.0  \n",
       "2014-09-21  26580100.0  "
      ]
     },
     "execution_count": 13,
     "metadata": {},
     "output_type": "execute_result"
    }
   ],
   "source": [
    "btc_history = pd.read_csv('/Users/draganbogatic/Documents/Fin_Tech/crypto-analysis/resources/BTC-USD.csv', parse_dates=True, index_col='Date')\n",
    "btc_history.head()"
   ]
  },
  {
   "cell_type": "code",
   "execution_count": 14,
   "metadata": {},
   "outputs": [
    {
     "data": {
      "text/plain": [
       "Date\n",
       "2021-08-02    86.588695\n",
       "2021-08-03    83.045474\n",
       "2021-08-04    83.688864\n",
       "2021-08-05    84.817144\n",
       "2021-08-06    84.070572\n",
       "Name: MFI_14, dtype: float64"
      ]
     },
     "execution_count": 14,
     "metadata": {},
     "output_type": "execute_result"
    }
   ],
   "source": [
    "mfi_eth = pta.volume.mfi(eth_history['High'],eth_history['Low'],eth_history['Close'], eth_history['Volume'])\n",
    "mfi_eth.to_csv('resources/mfi_eth.csv')\n",
    "mfi_eth.tail()"
   ]
  },
  {
   "cell_type": "code",
   "execution_count": 15,
   "metadata": {},
   "outputs": [
    {
     "data": {
      "text/plain": [
       "Date\n",
       "2021-08-02    81.204203\n",
       "2021-08-03    79.522234\n",
       "2021-08-04    79.662530\n",
       "2021-08-05    80.643163\n",
       "2021-08-06    79.699408\n",
       "Name: MFI_14, dtype: float64"
      ]
     },
     "execution_count": 15,
     "metadata": {},
     "output_type": "execute_result"
    }
   ],
   "source": [
    "mfi_btc = pta.volume.mfi(btc_history['High'],btc_history['Low'],btc_history['Close'], btc_history['Volume'])\n",
    "mfi_btc.to_csv('resources/mfi_btc.csv')\n",
    "mfi_btc.tail()"
   ]
  },
  {
   "cell_type": "markdown",
   "metadata": {},
   "source": [
    "# Stochastic Oscilator - STOCH"
   ]
  },
  {
   "cell_type": "code",
   "execution_count": 16,
   "metadata": {},
   "outputs": [
    {
     "data": {
      "text/html": [
       "<div>\n",
       "<style scoped>\n",
       "    .dataframe tbody tr th:only-of-type {\n",
       "        vertical-align: middle;\n",
       "    }\n",
       "\n",
       "    .dataframe tbody tr th {\n",
       "        vertical-align: top;\n",
       "    }\n",
       "\n",
       "    .dataframe thead th {\n",
       "        text-align: right;\n",
       "    }\n",
       "</style>\n",
       "<table border=\"1\" class=\"dataframe\">\n",
       "  <thead>\n",
       "    <tr style=\"text-align: right;\">\n",
       "      <th></th>\n",
       "      <th>STOCHk_14_3_3</th>\n",
       "      <th>STOCHd_14_3_3</th>\n",
       "    </tr>\n",
       "    <tr>\n",
       "      <th>Date</th>\n",
       "      <th></th>\n",
       "      <th></th>\n",
       "    </tr>\n",
       "  </thead>\n",
       "  <tbody>\n",
       "    <tr>\n",
       "      <th>2015-08-24</th>\n",
       "      <td>40.927698</td>\n",
       "      <td>47.422852</td>\n",
       "    </tr>\n",
       "    <tr>\n",
       "      <th>2015-08-25</th>\n",
       "      <td>15.583200</td>\n",
       "      <td>37.190149</td>\n",
       "    </tr>\n",
       "    <tr>\n",
       "      <th>2015-08-26</th>\n",
       "      <td>-9.154127</td>\n",
       "      <td>15.785590</td>\n",
       "    </tr>\n",
       "    <tr>\n",
       "      <th>2015-08-27</th>\n",
       "      <td>-16.621943</td>\n",
       "      <td>-3.397623</td>\n",
       "    </tr>\n",
       "    <tr>\n",
       "      <th>2015-08-28</th>\n",
       "      <td>-14.739759</td>\n",
       "      <td>-13.505276</td>\n",
       "    </tr>\n",
       "  </tbody>\n",
       "</table>\n",
       "</div>"
      ],
      "text/plain": [
       "            STOCHk_14_3_3  STOCHd_14_3_3\n",
       "Date                                    \n",
       "2015-08-24      40.927698      47.422852\n",
       "2015-08-25      15.583200      37.190149\n",
       "2015-08-26      -9.154127      15.785590\n",
       "2015-08-27     -16.621943      -3.397623\n",
       "2015-08-28     -14.739759     -13.505276"
      ]
     },
     "execution_count": 16,
     "metadata": {},
     "output_type": "execute_result"
    }
   ],
   "source": [
    "stoch_eth = pta.stoch(eth_history['Close'],eth_history['High'],eth_history['Low'],length=14).dropna()\n",
    "stoch_eth.to_csv('resources/stoch_eth.csv')\n",
    "stoch_eth.head()"
   ]
  },
  {
   "cell_type": "code",
   "execution_count": 17,
   "metadata": {},
   "outputs": [
    {
     "data": {
      "text/html": [
       "<div>\n",
       "<style scoped>\n",
       "    .dataframe tbody tr th:only-of-type {\n",
       "        vertical-align: middle;\n",
       "    }\n",
       "\n",
       "    .dataframe tbody tr th {\n",
       "        vertical-align: top;\n",
       "    }\n",
       "\n",
       "    .dataframe thead th {\n",
       "        text-align: right;\n",
       "    }\n",
       "</style>\n",
       "<table border=\"1\" class=\"dataframe\">\n",
       "  <thead>\n",
       "    <tr style=\"text-align: right;\">\n",
       "      <th></th>\n",
       "      <th>STOCHk_14_3_3</th>\n",
       "      <th>STOCHd_14_3_3</th>\n",
       "    </tr>\n",
       "    <tr>\n",
       "      <th>Date</th>\n",
       "      <th></th>\n",
       "      <th></th>\n",
       "    </tr>\n",
       "  </thead>\n",
       "  <tbody>\n",
       "    <tr>\n",
       "      <th>2014-10-04</th>\n",
       "      <td>-37.509344</td>\n",
       "      <td>-25.445139</td>\n",
       "    </tr>\n",
       "    <tr>\n",
       "      <th>2014-10-05</th>\n",
       "      <td>-48.047226</td>\n",
       "      <td>-35.980253</td>\n",
       "    </tr>\n",
       "    <tr>\n",
       "      <th>2014-10-06</th>\n",
       "      <td>-50.582789</td>\n",
       "      <td>-45.379786</td>\n",
       "    </tr>\n",
       "    <tr>\n",
       "      <th>2014-10-07</th>\n",
       "      <td>-39.987669</td>\n",
       "      <td>-46.205895</td>\n",
       "    </tr>\n",
       "    <tr>\n",
       "      <th>2014-10-08</th>\n",
       "      <td>-26.924530</td>\n",
       "      <td>-39.164996</td>\n",
       "    </tr>\n",
       "  </tbody>\n",
       "</table>\n",
       "</div>"
      ],
      "text/plain": [
       "            STOCHk_14_3_3  STOCHd_14_3_3\n",
       "Date                                    \n",
       "2014-10-04     -37.509344     -25.445139\n",
       "2014-10-05     -48.047226     -35.980253\n",
       "2014-10-06     -50.582789     -45.379786\n",
       "2014-10-07     -39.987669     -46.205895\n",
       "2014-10-08     -26.924530     -39.164996"
      ]
     },
     "execution_count": 17,
     "metadata": {},
     "output_type": "execute_result"
    }
   ],
   "source": [
    "stoch_btc = pta.stoch(btc_history['Close'],btc_history['High'],btc_history['Low'],length=14).dropna()\n",
    "stoch_btc.to_csv('resources/stoch_btc.csv')\n",
    "stoch_btc.head()"
   ]
  },
  {
   "cell_type": "markdown",
   "metadata": {},
   "source": [
    "# True Strength Index - TSI"
   ]
  },
  {
   "cell_type": "code",
   "execution_count": 18,
   "metadata": {},
   "outputs": [
    {
     "data": {
      "text/html": [
       "<div>\n",
       "<style scoped>\n",
       "    .dataframe tbody tr th:only-of-type {\n",
       "        vertical-align: middle;\n",
       "    }\n",
       "\n",
       "    .dataframe tbody tr th {\n",
       "        vertical-align: top;\n",
       "    }\n",
       "\n",
       "    .dataframe thead th {\n",
       "        text-align: right;\n",
       "    }\n",
       "</style>\n",
       "<table border=\"1\" class=\"dataframe\">\n",
       "  <thead>\n",
       "    <tr style=\"text-align: right;\">\n",
       "      <th></th>\n",
       "      <th>TSI_13_25_13</th>\n",
       "      <th>TSIs_13_25_13</th>\n",
       "    </tr>\n",
       "    <tr>\n",
       "      <th>time</th>\n",
       "      <th></th>\n",
       "      <th></th>\n",
       "    </tr>\n",
       "  </thead>\n",
       "  <tbody>\n",
       "    <tr>\n",
       "      <th>2016-02-19</th>\n",
       "      <td>36.723593</td>\n",
       "      <td>55.155104</td>\n",
       "    </tr>\n",
       "    <tr>\n",
       "      <th>2016-02-20</th>\n",
       "      <td>33.186631</td>\n",
       "      <td>52.016751</td>\n",
       "    </tr>\n",
       "    <tr>\n",
       "      <th>2016-02-21</th>\n",
       "      <td>31.275368</td>\n",
       "      <td>49.053696</td>\n",
       "    </tr>\n",
       "    <tr>\n",
       "      <th>2016-02-22</th>\n",
       "      <td>32.410383</td>\n",
       "      <td>46.676080</td>\n",
       "    </tr>\n",
       "    <tr>\n",
       "      <th>2016-02-23</th>\n",
       "      <td>33.287523</td>\n",
       "      <td>44.763429</td>\n",
       "    </tr>\n",
       "  </tbody>\n",
       "</table>\n",
       "</div>"
      ],
      "text/plain": [
       "            TSI_13_25_13  TSIs_13_25_13\n",
       "time                                   \n",
       "2016-02-19     36.723593      55.155104\n",
       "2016-02-20     33.186631      52.016751\n",
       "2016-02-21     31.275368      49.053696\n",
       "2016-02-22     32.410383      46.676080\n",
       "2016-02-23     33.287523      44.763429"
      ]
     },
     "execution_count": 18,
     "metadata": {},
     "output_type": "execute_result"
    }
   ],
   "source": [
    "tsi_eth = pta.tsi(metrics_eth['PriceUSD']).dropna()\n",
    "tsi_eth.to_csv('resources/tsi_eth.csv')\n",
    "tsi_eth.head()"
   ]
  },
  {
   "cell_type": "code",
   "execution_count": 19,
   "metadata": {},
   "outputs": [
    {
     "data": {
      "text/html": [
       "<div>\n",
       "<style scoped>\n",
       "    .dataframe tbody tr th:only-of-type {\n",
       "        vertical-align: middle;\n",
       "    }\n",
       "\n",
       "    .dataframe tbody tr th {\n",
       "        vertical-align: top;\n",
       "    }\n",
       "\n",
       "    .dataframe thead th {\n",
       "        text-align: right;\n",
       "    }\n",
       "</style>\n",
       "<table border=\"1\" class=\"dataframe\">\n",
       "  <thead>\n",
       "    <tr style=\"text-align: right;\">\n",
       "      <th></th>\n",
       "      <th>TSI_13_25_13</th>\n",
       "      <th>TSIs_13_25_13</th>\n",
       "    </tr>\n",
       "    <tr>\n",
       "      <th>time</th>\n",
       "      <th></th>\n",
       "      <th></th>\n",
       "    </tr>\n",
       "  </thead>\n",
       "  <tbody>\n",
       "    <tr>\n",
       "      <th>2010-09-05</th>\n",
       "      <td>-18.100723</td>\n",
       "      <td>-17.291109</td>\n",
       "    </tr>\n",
       "    <tr>\n",
       "      <th>2010-09-06</th>\n",
       "      <td>-18.088929</td>\n",
       "      <td>-17.405083</td>\n",
       "    </tr>\n",
       "    <tr>\n",
       "      <th>2010-09-07</th>\n",
       "      <td>-18.229348</td>\n",
       "      <td>-17.522835</td>\n",
       "    </tr>\n",
       "    <tr>\n",
       "      <th>2010-09-08</th>\n",
       "      <td>-18.453034</td>\n",
       "      <td>-17.655721</td>\n",
       "    </tr>\n",
       "    <tr>\n",
       "      <th>2010-09-09</th>\n",
       "      <td>-18.570205</td>\n",
       "      <td>-17.786361</td>\n",
       "    </tr>\n",
       "  </tbody>\n",
       "</table>\n",
       "</div>"
      ],
      "text/plain": [
       "            TSI_13_25_13  TSIs_13_25_13\n",
       "time                                   \n",
       "2010-09-05    -18.100723     -17.291109\n",
       "2010-09-06    -18.088929     -17.405083\n",
       "2010-09-07    -18.229348     -17.522835\n",
       "2010-09-08    -18.453034     -17.655721\n",
       "2010-09-09    -18.570205     -17.786361"
      ]
     },
     "execution_count": 19,
     "metadata": {},
     "output_type": "execute_result"
    }
   ],
   "source": [
    "tsi_btc = pta.tsi(metrics_btc['PriceUSD']).dropna()\n",
    "tsi_btc.to_csv('resources/tsi_btc.csv')\n",
    "tsi_btc.head()"
   ]
  }
 ],
 "metadata": {
  "interpreter": {
   "hash": "1d1365bc7bea9ca53bbaaff2a498c5cc15b63a6fcc47bade387e2edfe7e7b068"
  },
  "kernelspec": {
   "display_name": "Python 3.7.9 64-bit ('algotrading': conda)",
   "name": "python3"
  },
  "language_info": {
   "codemirror_mode": {
    "name": "ipython",
    "version": 3
   },
   "file_extension": ".py",
   "mimetype": "text/x-python",
   "name": "python",
   "nbconvert_exporter": "python",
   "pygments_lexer": "ipython3",
   "version": "3.7.9"
  },
  "orig_nbformat": 4
 },
 "nbformat": 4,
 "nbformat_minor": 2
}
