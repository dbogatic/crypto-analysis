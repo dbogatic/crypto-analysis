{
 "cells": [
  {
   "cell_type": "markdown",
   "metadata": {},
   "source": [
    "# Technical Analysis using Pandas library [pandas-ta](https://pypi.org/project/pandas-ta/)\n",
    "## pandas-ta [documentation](https://technical-analysis-library-in-python.readthedocs.io/en/latest/ta.html)"
   ]
  },
  {
   "cell_type": "code",
   "execution_count": 1,
   "metadata": {},
   "outputs": [],
   "source": [
    "import pandas as pd\n",
    "import pandas_ta as pta\n",
    "import matplotlib\n",
    "import matplotlib.pyplot as plt\n",
    "import datetime as dt\n",
    "import time\n",
    "%matplotlib inline"
   ]
  },
  {
   "cell_type": "code",
   "execution_count": 2,
   "metadata": {},
   "outputs": [
    {
     "data": {
      "text/html": [
       "<div>\n",
       "<style scoped>\n",
       "    .dataframe tbody tr th:only-of-type {\n",
       "        vertical-align: middle;\n",
       "    }\n",
       "\n",
       "    .dataframe tbody tr th {\n",
       "        vertical-align: top;\n",
       "    }\n",
       "\n",
       "    .dataframe thead th {\n",
       "        text-align: right;\n",
       "    }\n",
       "</style>\n",
       "<table border=\"1\" class=\"dataframe\">\n",
       "  <thead>\n",
       "    <tr style=\"text-align: right;\">\n",
       "      <th></th>\n",
       "      <th>asset</th>\n",
       "      <th>AdrActCnt</th>\n",
       "      <th>CapMVRVCur</th>\n",
       "      <th>CapMrktCurUSD</th>\n",
       "      <th>HashRate</th>\n",
       "      <th>NVTAdj</th>\n",
       "      <th>PriceUSD</th>\n",
       "      <th>SplyCur</th>\n",
       "      <th>TxCnt</th>\n",
       "      <th>TxTfrValAdjUSD</th>\n",
       "      <th>VelCur1yr</th>\n",
       "    </tr>\n",
       "    <tr>\n",
       "      <th>time</th>\n",
       "      <th></th>\n",
       "      <th></th>\n",
       "      <th></th>\n",
       "      <th></th>\n",
       "      <th></th>\n",
       "      <th></th>\n",
       "      <th></th>\n",
       "      <th></th>\n",
       "      <th></th>\n",
       "      <th></th>\n",
       "      <th></th>\n",
       "    </tr>\n",
       "  </thead>\n",
       "  <tbody>\n",
       "    <tr>\n",
       "      <th>2021-12-13</th>\n",
       "      <td>eth</td>\n",
       "      <td>610120</td>\n",
       "      <td>1.698278</td>\n",
       "      <td>4.452681e+11</td>\n",
       "      <td>877.486094</td>\n",
       "      <td>37.563468</td>\n",
       "      <td>3788.082337</td>\n",
       "      <td>1.175445e+08</td>\n",
       "      <td>1242978</td>\n",
       "      <td>1.185375e+10</td>\n",
       "      <td>18.892499</td>\n",
       "    </tr>\n",
       "    <tr>\n",
       "      <th>2021-12-14</th>\n",
       "      <td>eth</td>\n",
       "      <td>617852</td>\n",
       "      <td>1.719872</td>\n",
       "      <td>4.526614e+11</td>\n",
       "      <td>878.316915</td>\n",
       "      <td>39.143196</td>\n",
       "      <td>3850.763308</td>\n",
       "      <td>1.175511e+08</td>\n",
       "      <td>1214900</td>\n",
       "      <td>1.156424e+10</td>\n",
       "      <td>18.881284</td>\n",
       "    </tr>\n",
       "    <tr>\n",
       "      <th>2021-12-15</th>\n",
       "      <td>eth</td>\n",
       "      <td>607024</td>\n",
       "      <td>1.773629</td>\n",
       "      <td>4.720652e+11</td>\n",
       "      <td>878.531504</td>\n",
       "      <td>47.901188</td>\n",
       "      <td>4015.642312</td>\n",
       "      <td>1.175566e+08</td>\n",
       "      <td>1258462</td>\n",
       "      <td>9.854978e+09</td>\n",
       "      <td>18.863606</td>\n",
       "    </tr>\n",
       "    <tr>\n",
       "      <th>2021-12-16</th>\n",
       "      <td>eth</td>\n",
       "      <td>601544</td>\n",
       "      <td>1.758465</td>\n",
       "      <td>4.671211e+11</td>\n",
       "      <td>857.226757</td>\n",
       "      <td>48.596247</td>\n",
       "      <td>3973.451095</td>\n",
       "      <td>1.175605e+08</td>\n",
       "      <td>1155456</td>\n",
       "      <td>9.612287e+09</td>\n",
       "      <td>18.833360</td>\n",
       "    </tr>\n",
       "    <tr>\n",
       "      <th>2021-12-17</th>\n",
       "      <td>eth</td>\n",
       "      <td>615024</td>\n",
       "      <td>1.731316</td>\n",
       "      <td>4.567951e+11</td>\n",
       "      <td>853.830893</td>\n",
       "      <td>51.870505</td>\n",
       "      <td>3885.430082</td>\n",
       "      <td>1.175662e+08</td>\n",
       "      <td>1270355</td>\n",
       "      <td>8.806451e+09</td>\n",
       "      <td>18.772575</td>\n",
       "    </tr>\n",
       "  </tbody>\n",
       "</table>\n",
       "</div>"
      ],
      "text/plain": [
       "           asset  AdrActCnt  CapMVRVCur  CapMrktCurUSD    HashRate     NVTAdj  \\\n",
       "time                                                                            \n",
       "2021-12-13   eth     610120    1.698278   4.452681e+11  877.486094  37.563468   \n",
       "2021-12-14   eth     617852    1.719872   4.526614e+11  878.316915  39.143196   \n",
       "2021-12-15   eth     607024    1.773629   4.720652e+11  878.531504  47.901188   \n",
       "2021-12-16   eth     601544    1.758465   4.671211e+11  857.226757  48.596247   \n",
       "2021-12-17   eth     615024    1.731316   4.567951e+11  853.830893  51.870505   \n",
       "\n",
       "               PriceUSD       SplyCur    TxCnt  TxTfrValAdjUSD  VelCur1yr  \n",
       "time                                                                       \n",
       "2021-12-13  3788.082337  1.175445e+08  1242978    1.185375e+10  18.892499  \n",
       "2021-12-14  3850.763308  1.175511e+08  1214900    1.156424e+10  18.881284  \n",
       "2021-12-15  4015.642312  1.175566e+08  1258462    9.854978e+09  18.863606  \n",
       "2021-12-16  3973.451095  1.175605e+08  1155456    9.612287e+09  18.833360  \n",
       "2021-12-17  3885.430082  1.175662e+08  1270355    8.806451e+09  18.772575  "
      ]
     },
     "execution_count": 2,
     "metadata": {},
     "output_type": "execute_result"
    }
   ],
   "source": [
    "metrics_eth = pd.read_csv('/Users/draganbogatic/Documents/Fin_Tech/crypto-analysis/resources/eth_annual_metrics/combined.csv', index_col='time')\n",
    "metrics_eth = metrics_eth.reset_index()\n",
    "metrics_eth['time'] = pd.to_datetime(metrics_eth['time']).dt.date\n",
    "metrics_eth = metrics_eth.set_index('time').drop(columns='Unnamed: 0')\n",
    "\n",
    "metrics_eth.tail()"
   ]
  },
  {
   "cell_type": "markdown",
   "metadata": {},
   "source": [
    "# Relative Strength Index - RSI"
   ]
  },
  {
   "cell_type": "code",
   "execution_count": 3,
   "metadata": {},
   "outputs": [],
   "source": [
    "rsi_eth = pta.rsi(metrics_eth['PriceUSD'],length=14).dropna()\n",
    "rsi_eth\n",
    "rsi_eth.to_csv('resources/rsi_eth.csv')"
   ]
  },
  {
   "cell_type": "code",
   "execution_count": 4,
   "metadata": {},
   "outputs": [
    {
     "data": {
      "text/plain": [
       "<matplotlib.legend.Legend at 0x7fabb43a1290>"
      ]
     },
     "execution_count": 4,
     "metadata": {},
     "output_type": "execute_result"
    },
    {
     "data": {
      "image/png": "[encoded data removed]",
      "text/plain": [
       "<Figure size 864x504 with 1 Axes>"
      ]
     },
     "metadata": {
      "needs_background": "light"
     },
     "output_type": "display_data"
    }
   ],
   "source": [
    "rsi_eth.plot(title = 'ETH RSI', rot=45,figsize=(12,7), ylabel='RSI index')\n",
    "plt.axhline(70,color='r', label='70% RSI')\n",
    "plt.axhline(30,color='g', label='30% RSI')\n",
    "plt.axhline(rsi_eth.iloc[-1], color='b', label='current RSI')\n",
    "plt.legend(loc='best')"
   ]
  },
  {
   "cell_type": "code",
   "execution_count": 5,
   "metadata": {},
   "outputs": [
    {
     "data": {
      "text/html": [
       "<div>\n",
       "<style scoped>\n",
       "    .dataframe tbody tr th:only-of-type {\n",
       "        vertical-align: middle;\n",
       "    }\n",
       "\n",
       "    .dataframe tbody tr th {\n",
       "        vertical-align: top;\n",
       "    }\n",
       "\n",
       "    .dataframe thead th {\n",
       "        text-align: right;\n",
       "    }\n",
       "</style>\n",
       "<table border=\"1\" class=\"dataframe\">\n",
       "  <thead>\n",
       "    <tr style=\"text-align: right;\">\n",
       "      <th></th>\n",
       "      <th>asset</th>\n",
       "      <th>AdrActCnt</th>\n",
       "      <th>CapMVRVCur</th>\n",
       "      <th>CapMrktCurUSD</th>\n",
       "      <th>HashRate</th>\n",
       "      <th>NVTAdj</th>\n",
       "      <th>PriceUSD</th>\n",
       "      <th>SplyCur</th>\n",
       "      <th>TxCnt</th>\n",
       "      <th>TxTfrValAdjUSD</th>\n",
       "      <th>VelCur1yr</th>\n",
       "    </tr>\n",
       "    <tr>\n",
       "      <th>time</th>\n",
       "      <th></th>\n",
       "      <th></th>\n",
       "      <th></th>\n",
       "      <th></th>\n",
       "      <th></th>\n",
       "      <th></th>\n",
       "      <th></th>\n",
       "      <th></th>\n",
       "      <th></th>\n",
       "      <th></th>\n",
       "      <th></th>\n",
       "    </tr>\n",
       "  </thead>\n",
       "  <tbody>\n",
       "    <tr>\n",
       "      <th>2021-12-13</th>\n",
       "      <td>btc</td>\n",
       "      <td>996713</td>\n",
       "      <td>1.915300</td>\n",
       "      <td>8.842453e+11</td>\n",
       "      <td>1.695883e+08</td>\n",
       "      <td>69.789128</td>\n",
       "      <td>46785.327841</td>\n",
       "      <td>1.890006e+07</td>\n",
       "      <td>281785</td>\n",
       "      <td>1.267024e+10</td>\n",
       "      <td>14.525969</td>\n",
       "    </tr>\n",
       "    <tr>\n",
       "      <th>2021-12-14</th>\n",
       "      <td>btc</td>\n",
       "      <td>966596</td>\n",
       "      <td>1.974878</td>\n",
       "      <td>9.127791e+11</td>\n",
       "      <td>1.780076e+08</td>\n",
       "      <td>72.469440</td>\n",
       "      <td>48292.682250</td>\n",
       "      <td>1.890098e+07</td>\n",
       "      <td>281921</td>\n",
       "      <td>1.259537e+10</td>\n",
       "      <td>14.533207</td>\n",
       "    </tr>\n",
       "    <tr>\n",
       "      <th>2021-12-15</th>\n",
       "      <td>btc</td>\n",
       "      <td>1058257</td>\n",
       "      <td>1.995927</td>\n",
       "      <td>9.229897e+11</td>\n",
       "      <td>1.695883e+08</td>\n",
       "      <td>62.867727</td>\n",
       "      <td>48830.622386</td>\n",
       "      <td>1.890186e+07</td>\n",
       "      <td>280841</td>\n",
       "      <td>1.468146e+10</td>\n",
       "      <td>14.536127</td>\n",
       "    </tr>\n",
       "    <tr>\n",
       "      <th>2021-12-16</th>\n",
       "      <td>btc</td>\n",
       "      <td>873836</td>\n",
       "      <td>1.948720</td>\n",
       "      <td>9.009626e+11</td>\n",
       "      <td>1.383167e+08</td>\n",
       "      <td>56.242508</td>\n",
       "      <td>47663.469108</td>\n",
       "      <td>1.890258e+07</td>\n",
       "      <td>256019</td>\n",
       "      <td>1.601925e+10</td>\n",
       "      <td>14.533316</td>\n",
       "    </tr>\n",
       "    <tr>\n",
       "      <th>2021-12-17</th>\n",
       "      <td>btc</td>\n",
       "      <td>979005</td>\n",
       "      <td>1.896527</td>\n",
       "      <td>8.758845e+11</td>\n",
       "      <td>1.792104e+08</td>\n",
       "      <td>48.186258</td>\n",
       "      <td>46334.483749</td>\n",
       "      <td>1.890351e+07</td>\n",
       "      <td>260119</td>\n",
       "      <td>1.817706e+10</td>\n",
       "      <td>14.538415</td>\n",
       "    </tr>\n",
       "  </tbody>\n",
       "</table>\n",
       "</div>"
      ],
      "text/plain": [
       "           asset  AdrActCnt  CapMVRVCur  CapMrktCurUSD      HashRate  \\\n",
       "time                                                                   \n",
       "2021-12-13   btc     996713    1.915300   8.842453e+11  1.695883e+08   \n",
       "2021-12-14   btc     966596    1.974878   9.127791e+11  1.780076e+08   \n",
       "2021-12-15   btc    1058257    1.995927   9.229897e+11  1.695883e+08   \n",
       "2021-12-16   btc     873836    1.948720   9.009626e+11  1.383167e+08   \n",
       "2021-12-17   btc     979005    1.896527   8.758845e+11  1.792104e+08   \n",
       "\n",
       "               NVTAdj      PriceUSD       SplyCur   TxCnt  TxTfrValAdjUSD  \\\n",
       "time                                                                        \n",
       "2021-12-13  69.789128  46785.327841  1.890006e+07  281785    1.267024e+10   \n",
       "2021-12-14  72.469440  48292.682250  1.890098e+07  281921    1.259537e+10   \n",
       "2021-12-15  62.867727  48830.622386  1.890186e+07  280841    1.468146e+10   \n",
       "2021-12-16  56.242508  47663.469108  1.890258e+07  256019    1.601925e+10   \n",
       "2021-12-17  48.186258  46334.483749  1.890351e+07  260119    1.817706e+10   \n",
       "\n",
       "            VelCur1yr  \n",
       "time                   \n",
       "2021-12-13  14.525969  \n",
       "2021-12-14  14.533207  \n",
       "2021-12-15  14.536127  \n",
       "2021-12-16  14.533316  \n",
       "2021-12-17  14.538415  "
      ]
     },
     "execution_count": 5,
     "metadata": {},
     "output_type": "execute_result"
    }
   ],
   "source": [
    "metrics_btc = pd.read_csv('/Users/draganbogatic/Documents/Fin_Tech/crypto-analysis/resources/btc_annual_metrics/combined.csv', index_col='time')\n",
    "metrics_btc = metrics_btc.reset_index()\n",
    "metrics_btc['time'] = pd.to_datetime(metrics_btc['time']).dt.date\n",
    "metrics_btc = metrics_btc.set_index('time').drop(columns='Unnamed: 0')\n",
    "\n",
    "metrics_btc.tail()"
   ]
  },
  {
   "cell_type": "code",
   "execution_count": 6,
   "metadata": {},
   "outputs": [],
   "source": [
    "rsi_btc = pta.rsi(metrics_btc['PriceUSD'],length=14, ).dropna()\n",
    "rsi_btc\n",
    "rsi_btc.to_csv('resources/rsi_btc.csv')"
   ]
  },
  {
   "cell_type": "code",
   "execution_count": 7,
   "metadata": {},
   "outputs": [
    {
     "data": {
      "text/plain": [
       "<matplotlib.legend.Legend at 0x7fabb41f66d0>"
      ]
     },
     "execution_count": 7,
     "metadata": {},
     "output_type": "execute_result"
    },
    {
     "data": {
      "image/png": "[encoded data removed]",
      "text/plain": [
       "<Figure size 864x504 with 1 Axes>"
      ]
     },
     "metadata": {
      "needs_background": "light"
     },
     "output_type": "display_data"
    }
   ],
   "source": [
    "rsi_btc.plot(title = 'BTC RSI', rot=45,figsize=(12,7), ylabel='RSI index')\n",
    "plt.axhline(70,color='r', label='70% RSI')\n",
    "plt.axhline(30,color='g', label='30% RSI')\n",
    "plt.axhline(rsi_btc.iloc[-1], color='b', label='current RSI')\n",
    "plt.legend(loc='best')"
   ]
  },
  {
   "cell_type": "markdown",
   "metadata": {},
   "source": [
    "# Rate of Change - ROC"
   ]
  },
  {
   "cell_type": "code",
   "execution_count": 8,
   "metadata": {},
   "outputs": [
    {
     "data": {
      "text/plain": [
       "time\n",
       "2016-01-15    40.257836\n",
       "2016-01-16    27.558185\n",
       "2016-01-17    36.974993\n",
       "2016-01-18    54.341493\n",
       "2016-01-19    43.544091\n",
       "Name: ROC_14, dtype: float64"
      ]
     },
     "execution_count": 8,
     "metadata": {},
     "output_type": "execute_result"
    }
   ],
   "source": [
    "roc_eth = pta.roc(metrics_eth['PriceUSD'],length=14).dropna()\n",
    "roc_eth.to_csv('resources/roc_eth.csv')\n",
    "roc_eth.head()"
   ]
  },
  {
   "cell_type": "code",
   "execution_count": 9,
   "metadata": {},
   "outputs": [
    {
     "data": {
      "text/plain": [
       "time\n",
       "2010-08-01   -28.821062\n",
       "2010-08-02   -25.742574\n",
       "2010-08-03   -19.700856\n",
       "2010-08-04   -28.003890\n",
       "2010-08-05     4.327433\n",
       "Name: ROC_14, dtype: float64"
      ]
     },
     "execution_count": 9,
     "metadata": {},
     "output_type": "execute_result"
    }
   ],
   "source": [
    "roc_btc = pta.roc(metrics_btc['PriceUSD'],length=14).dropna()\n",
    "roc_btc.to_csv('resources/roc_btc.csv')\n",
    "roc_btc.head()\n"
   ]
  },
  {
   "cell_type": "markdown",
   "metadata": {},
   "source": [
    "# Stochastic RSI - STOCHRSI"
   ]
  },
  {
   "cell_type": "code",
   "execution_count": 10,
   "metadata": {},
   "outputs": [
    {
     "data": {
      "text/html": [
       "<div>\n",
       "<style scoped>\n",
       "    .dataframe tbody tr th:only-of-type {\n",
       "        vertical-align: middle;\n",
       "    }\n",
       "\n",
       "    .dataframe tbody tr th {\n",
       "        vertical-align: top;\n",
       "    }\n",
       "\n",
       "    .dataframe thead th {\n",
       "        text-align: right;\n",
       "    }\n",
       "</style>\n",
       "<table border=\"1\" class=\"dataframe\">\n",
       "  <thead>\n",
       "    <tr style=\"text-align: right;\">\n",
       "      <th></th>\n",
       "      <th>STOCHRSIk_14_14_3_3</th>\n",
       "      <th>STOCHRSId_14_14_3_3</th>\n",
       "    </tr>\n",
       "    <tr>\n",
       "      <th>time</th>\n",
       "      <th></th>\n",
       "      <th></th>\n",
       "    </tr>\n",
       "  </thead>\n",
       "  <tbody>\n",
       "    <tr>\n",
       "      <th>2016-02-01</th>\n",
       "      <td>12.255849</td>\n",
       "      <td>30.743114</td>\n",
       "    </tr>\n",
       "    <tr>\n",
       "      <th>2016-02-02</th>\n",
       "      <td>7.610820</td>\n",
       "      <td>16.258663</td>\n",
       "    </tr>\n",
       "    <tr>\n",
       "      <th>2016-02-03</th>\n",
       "      <td>17.160092</td>\n",
       "      <td>12.342254</td>\n",
       "    </tr>\n",
       "    <tr>\n",
       "      <th>2016-02-04</th>\n",
       "      <td>27.179540</td>\n",
       "      <td>17.316817</td>\n",
       "    </tr>\n",
       "    <tr>\n",
       "      <th>2016-02-05</th>\n",
       "      <td>29.944141</td>\n",
       "      <td>24.761257</td>\n",
       "    </tr>\n",
       "  </tbody>\n",
       "</table>\n",
       "</div>"
      ],
      "text/plain": [
       "            STOCHRSIk_14_14_3_3  STOCHRSId_14_14_3_3\n",
       "time                                                \n",
       "2016-02-01            12.255849            30.743114\n",
       "2016-02-02             7.610820            16.258663\n",
       "2016-02-03            17.160092            12.342254\n",
       "2016-02-04            27.179540            17.316817\n",
       "2016-02-05            29.944141            24.761257"
      ]
     },
     "execution_count": 10,
     "metadata": {},
     "output_type": "execute_result"
    }
   ],
   "source": [
    "stochrsi_eth = pta.stochrsi(metrics_eth['PriceUSD'],length=14).dropna()\n",
    "stochrsi_eth.to_csv('resources/stochrsi_eth.csv')\n",
    "stochrsi_eth.head()"
   ]
  },
  {
   "cell_type": "code",
   "execution_count": 11,
   "metadata": {},
   "outputs": [
    {
     "data": {
      "text/html": [
       "<div>\n",
       "<style scoped>\n",
       "    .dataframe tbody tr th:only-of-type {\n",
       "        vertical-align: middle;\n",
       "    }\n",
       "\n",
       "    .dataframe tbody tr th {\n",
       "        vertical-align: top;\n",
       "    }\n",
       "\n",
       "    .dataframe thead th {\n",
       "        text-align: right;\n",
       "    }\n",
       "</style>\n",
       "<table border=\"1\" class=\"dataframe\">\n",
       "  <thead>\n",
       "    <tr style=\"text-align: right;\">\n",
       "      <th></th>\n",
       "      <th>STOCHRSIk_14_14_3_3</th>\n",
       "      <th>STOCHRSId_14_14_3_3</th>\n",
       "    </tr>\n",
       "    <tr>\n",
       "      <th>time</th>\n",
       "      <th></th>\n",
       "      <th></th>\n",
       "    </tr>\n",
       "  </thead>\n",
       "  <tbody>\n",
       "    <tr>\n",
       "      <th>2010-08-18</th>\n",
       "      <td>88.038824</td>\n",
       "      <td>84.486600</td>\n",
       "    </tr>\n",
       "    <tr>\n",
       "      <th>2010-08-19</th>\n",
       "      <td>86.971421</td>\n",
       "      <td>86.645592</td>\n",
       "    </tr>\n",
       "    <tr>\n",
       "      <th>2010-08-20</th>\n",
       "      <td>75.822128</td>\n",
       "      <td>83.610791</td>\n",
       "    </tr>\n",
       "    <tr>\n",
       "      <th>2010-08-21</th>\n",
       "      <td>70.962850</td>\n",
       "      <td>77.918800</td>\n",
       "    </tr>\n",
       "    <tr>\n",
       "      <th>2010-08-22</th>\n",
       "      <td>58.592519</td>\n",
       "      <td>68.459166</td>\n",
       "    </tr>\n",
       "  </tbody>\n",
       "</table>\n",
       "</div>"
      ],
      "text/plain": [
       "            STOCHRSIk_14_14_3_3  STOCHRSId_14_14_3_3\n",
       "time                                                \n",
       "2010-08-18            88.038824            84.486600\n",
       "2010-08-19            86.971421            86.645592\n",
       "2010-08-20            75.822128            83.610791\n",
       "2010-08-21            70.962850            77.918800\n",
       "2010-08-22            58.592519            68.459166"
      ]
     },
     "execution_count": 11,
     "metadata": {},
     "output_type": "execute_result"
    }
   ],
   "source": [
    "stochrsi_btc = pta.stochrsi(metrics_btc['PriceUSD'],length=14).dropna()\n",
    "stochrsi_btc.to_csv('resources/stochrsi_btc.csv')\n",
    "stochrsi_btc.head()"
   ]
  },
  {
   "cell_type": "markdown",
   "metadata": {},
   "source": [
    "# Money Flow Index - MFI"
   ]
  },
  {
   "cell_type": "code",
   "execution_count": 12,
   "metadata": {},
   "outputs": [
    {
     "data": {
      "text/html": [
       "<div>\n",
       "<style scoped>\n",
       "    .dataframe tbody tr th:only-of-type {\n",
       "        vertical-align: middle;\n",
       "    }\n",
       "\n",
       "    .dataframe tbody tr th {\n",
       "        vertical-align: top;\n",
       "    }\n",
       "\n",
       "    .dataframe thead th {\n",
       "        text-align: right;\n",
       "    }\n",
       "</style>\n",
       "<table border=\"1\" class=\"dataframe\">\n",
       "  <thead>\n",
       "    <tr style=\"text-align: right;\">\n",
       "      <th></th>\n",
       "      <th>Open</th>\n",
       "      <th>High</th>\n",
       "      <th>Low</th>\n",
       "      <th>Close</th>\n",
       "      <th>Adj Close</th>\n",
       "      <th>Volume</th>\n",
       "    </tr>\n",
       "    <tr>\n",
       "      <th>Date</th>\n",
       "      <th></th>\n",
       "      <th></th>\n",
       "      <th></th>\n",
       "      <th></th>\n",
       "      <th></th>\n",
       "      <th></th>\n",
       "    </tr>\n",
       "  </thead>\n",
       "  <tbody>\n",
       "    <tr>\n",
       "      <th>2017-11-09</th>\n",
       "      <td>308.644989</td>\n",
       "      <td>329.451996</td>\n",
       "      <td>307.056000</td>\n",
       "      <td>320.884003</td>\n",
       "      <td>320.884003</td>\n",
       "      <td>893249984</td>\n",
       "    </tr>\n",
       "    <tr>\n",
       "      <th>2017-11-10</th>\n",
       "      <td>320.670990</td>\n",
       "      <td>324.717987</td>\n",
       "      <td>294.541992</td>\n",
       "      <td>299.252991</td>\n",
       "      <td>299.252991</td>\n",
       "      <td>885985984</td>\n",
       "    </tr>\n",
       "    <tr>\n",
       "      <th>2017-11-11</th>\n",
       "      <td>298.585999</td>\n",
       "      <td>319.453003</td>\n",
       "      <td>298.191986</td>\n",
       "      <td>314.681000</td>\n",
       "      <td>314.681000</td>\n",
       "      <td>842300992</td>\n",
       "    </tr>\n",
       "    <tr>\n",
       "      <th>2017-11-12</th>\n",
       "      <td>314.690002</td>\n",
       "      <td>319.153015</td>\n",
       "      <td>298.513000</td>\n",
       "      <td>307.907990</td>\n",
       "      <td>307.907990</td>\n",
       "      <td>1613479936</td>\n",
       "    </tr>\n",
       "    <tr>\n",
       "      <th>2017-11-13</th>\n",
       "      <td>307.024994</td>\n",
       "      <td>328.415009</td>\n",
       "      <td>307.024994</td>\n",
       "      <td>316.716003</td>\n",
       "      <td>316.716003</td>\n",
       "      <td>1041889984</td>\n",
       "    </tr>\n",
       "  </tbody>\n",
       "</table>\n",
       "</div>"
      ],
      "text/plain": [
       "                  Open        High         Low       Close   Adj Close  \\\n",
       "Date                                                                     \n",
       "2017-11-09  308.644989  329.451996  307.056000  320.884003  320.884003   \n",
       "2017-11-10  320.670990  324.717987  294.541992  299.252991  299.252991   \n",
       "2017-11-11  298.585999  319.453003  298.191986  314.681000  314.681000   \n",
       "2017-11-12  314.690002  319.153015  298.513000  307.907990  307.907990   \n",
       "2017-11-13  307.024994  328.415009  307.024994  316.716003  316.716003   \n",
       "\n",
       "                Volume  \n",
       "Date                    \n",
       "2017-11-09   893249984  \n",
       "2017-11-10   885985984  \n",
       "2017-11-11   842300992  \n",
       "2017-11-12  1613479936  \n",
       "2017-11-13  1041889984  "
      ]
     },
     "execution_count": 12,
     "metadata": {},
     "output_type": "execute_result"
    }
   ],
   "source": [
    "eth_history = pd.read_csv('/Users/draganbogatic/Documents/Fin_Tech/crypto-analysis/resources/ETH-USD.csv', parse_dates=True, index_col='Date')\n",
    "eth_history.head()"
   ]
  },
  {
   "cell_type": "code",
   "execution_count": 13,
   "metadata": {},
   "outputs": [
    {
     "data": {
      "text/html": [
       "<div>\n",
       "<style scoped>\n",
       "    .dataframe tbody tr th:only-of-type {\n",
       "        vertical-align: middle;\n",
       "    }\n",
       "\n",
       "    .dataframe tbody tr th {\n",
       "        vertical-align: top;\n",
       "    }\n",
       "\n",
       "    .dataframe thead th {\n",
       "        text-align: right;\n",
       "    }\n",
       "</style>\n",
       "<table border=\"1\" class=\"dataframe\">\n",
       "  <thead>\n",
       "    <tr style=\"text-align: right;\">\n",
       "      <th></th>\n",
       "      <th>Open</th>\n",
       "      <th>High</th>\n",
       "      <th>Low</th>\n",
       "      <th>Close</th>\n",
       "      <th>Adj Close</th>\n",
       "      <th>Volume</th>\n",
       "    </tr>\n",
       "    <tr>\n",
       "      <th>Date</th>\n",
       "      <th></th>\n",
       "      <th></th>\n",
       "      <th></th>\n",
       "      <th></th>\n",
       "      <th></th>\n",
       "      <th></th>\n",
       "    </tr>\n",
       "  </thead>\n",
       "  <tbody>\n",
       "    <tr>\n",
       "      <th>2014-09-17</th>\n",
       "      <td>465.864014</td>\n",
       "      <td>468.174011</td>\n",
       "      <td>452.421997</td>\n",
       "      <td>457.334015</td>\n",
       "      <td>457.334015</td>\n",
       "      <td>21056800</td>\n",
       "    </tr>\n",
       "    <tr>\n",
       "      <th>2014-09-18</th>\n",
       "      <td>456.859985</td>\n",
       "      <td>456.859985</td>\n",
       "      <td>413.104004</td>\n",
       "      <td>424.440002</td>\n",
       "      <td>424.440002</td>\n",
       "      <td>34483200</td>\n",
       "    </tr>\n",
       "    <tr>\n",
       "      <th>2014-09-19</th>\n",
       "      <td>424.102997</td>\n",
       "      <td>427.834991</td>\n",
       "      <td>384.532013</td>\n",
       "      <td>394.795990</td>\n",
       "      <td>394.795990</td>\n",
       "      <td>37919700</td>\n",
       "    </tr>\n",
       "    <tr>\n",
       "      <th>2014-09-20</th>\n",
       "      <td>394.673004</td>\n",
       "      <td>423.295990</td>\n",
       "      <td>389.882996</td>\n",
       "      <td>408.903992</td>\n",
       "      <td>408.903992</td>\n",
       "      <td>36863600</td>\n",
       "    </tr>\n",
       "    <tr>\n",
       "      <th>2014-09-21</th>\n",
       "      <td>408.084991</td>\n",
       "      <td>412.425995</td>\n",
       "      <td>393.181000</td>\n",
       "      <td>398.821014</td>\n",
       "      <td>398.821014</td>\n",
       "      <td>26580100</td>\n",
       "    </tr>\n",
       "  </tbody>\n",
       "</table>\n",
       "</div>"
      ],
      "text/plain": [
       "                  Open        High         Low       Close   Adj Close  \\\n",
       "Date                                                                     \n",
       "2014-09-17  465.864014  468.174011  452.421997  457.334015  457.334015   \n",
       "2014-09-18  456.859985  456.859985  413.104004  424.440002  424.440002   \n",
       "2014-09-19  424.102997  427.834991  384.532013  394.795990  394.795990   \n",
       "2014-09-20  394.673004  423.295990  389.882996  408.903992  408.903992   \n",
       "2014-09-21  408.084991  412.425995  393.181000  398.821014  398.821014   \n",
       "\n",
       "              Volume  \n",
       "Date                  \n",
       "2014-09-17  21056800  \n",
       "2014-09-18  34483200  \n",
       "2014-09-19  37919700  \n",
       "2014-09-20  36863600  \n",
       "2014-09-21  26580100  "
      ]
     },
     "execution_count": 13,
     "metadata": {},
     "output_type": "execute_result"
    }
   ],
   "source": [
    "btc_history = pd.read_csv('/Users/draganbogatic/Documents/Fin_Tech/crypto-analysis/resources/BTC-USD.csv', parse_dates=True, index_col='Date')\n",
    "btc_history.head()"
   ]
  },
  {
   "cell_type": "code",
   "execution_count": 14,
   "metadata": {},
   "outputs": [
    {
     "data": {
      "text/plain": [
       "Date\n",
       "2022-01-22    31.482715\n",
       "2022-01-23    31.707864\n",
       "2022-01-24    31.360048\n",
       "2022-01-25    30.422699\n",
       "2022-01-26    30.234930\n",
       "Name: MFI_14, dtype: float64"
      ]
     },
     "execution_count": 14,
     "metadata": {},
     "output_type": "execute_result"
    }
   ],
   "source": [
    "mfi_eth = pta.volume.mfi(eth_history['High'],eth_history['Low'],eth_history['Close'], eth_history['Volume'])\n",
    "mfi_eth.to_csv('resources/mfi_eth.csv')\n",
    "mfi_eth.tail()"
   ]
  },
  {
   "cell_type": "code",
   "execution_count": 15,
   "metadata": {},
   "outputs": [
    {
     "data": {
      "text/plain": [
       "Date\n",
       "2022-01-22    26.423542\n",
       "2022-01-23    26.598839\n",
       "2022-01-24    26.323550\n",
       "2022-01-25    25.662763\n",
       "2022-01-26    24.314011\n",
       "Name: MFI_14, dtype: float64"
      ]
     },
     "execution_count": 15,
     "metadata": {},
     "output_type": "execute_result"
    }
   ],
   "source": [
    "mfi_btc = pta.volume.mfi(btc_history['High'],btc_history['Low'],btc_history['Close'], btc_history['Volume'])\n",
    "mfi_btc.to_csv('resources/mfi_btc.csv')\n",
    "mfi_btc.tail()"
   ]
  },
  {
   "cell_type": "markdown",
   "metadata": {},
   "source": [
    "# Stochastic Oscilator - STOCH"
   ]
  },
  {
   "cell_type": "code",
   "execution_count": 16,
   "metadata": {},
   "outputs": [
    {
     "data": {
      "text/html": [
       "<div>\n",
       "<style scoped>\n",
       "    .dataframe tbody tr th:only-of-type {\n",
       "        vertical-align: middle;\n",
       "    }\n",
       "\n",
       "    .dataframe tbody tr th {\n",
       "        vertical-align: top;\n",
       "    }\n",
       "\n",
       "    .dataframe thead th {\n",
       "        text-align: right;\n",
       "    }\n",
       "</style>\n",
       "<table border=\"1\" class=\"dataframe\">\n",
       "  <thead>\n",
       "    <tr style=\"text-align: right;\">\n",
       "      <th></th>\n",
       "      <th>STOCHk_14_3_3</th>\n",
       "      <th>STOCHd_14_3_3</th>\n",
       "    </tr>\n",
       "    <tr>\n",
       "      <th>Date</th>\n",
       "      <th></th>\n",
       "      <th></th>\n",
       "    </tr>\n",
       "  </thead>\n",
       "  <tbody>\n",
       "    <tr>\n",
       "      <th>2017-11-26</th>\n",
       "      <td>76.290256</td>\n",
       "      <td>68.788673</td>\n",
       "    </tr>\n",
       "    <tr>\n",
       "      <th>2017-11-27</th>\n",
       "      <td>89.010118</td>\n",
       "      <td>78.137467</td>\n",
       "    </tr>\n",
       "    <tr>\n",
       "      <th>2017-11-28</th>\n",
       "      <td>88.764255</td>\n",
       "      <td>84.688210</td>\n",
       "    </tr>\n",
       "    <tr>\n",
       "      <th>2017-11-29</th>\n",
       "      <td>81.392237</td>\n",
       "      <td>86.388870</td>\n",
       "    </tr>\n",
       "    <tr>\n",
       "      <th>2017-11-30</th>\n",
       "      <td>65.975886</td>\n",
       "      <td>78.710793</td>\n",
       "    </tr>\n",
       "  </tbody>\n",
       "</table>\n",
       "</div>"
      ],
      "text/plain": [
       "            STOCHk_14_3_3  STOCHd_14_3_3\n",
       "Date                                    \n",
       "2017-11-26      76.290256      68.788673\n",
       "2017-11-27      89.010118      78.137467\n",
       "2017-11-28      88.764255      84.688210\n",
       "2017-11-29      81.392237      86.388870\n",
       "2017-11-30      65.975886      78.710793"
      ]
     },
     "execution_count": 16,
     "metadata": {},
     "output_type": "execute_result"
    }
   ],
   "source": [
    "stoch_eth = pta.stoch(eth_history['Close'],eth_history['High'],eth_history['Low'],length=14).dropna()\n",
    "stoch_eth.to_csv('resources/stoch_eth.csv')\n",
    "stoch_eth.head()"
   ]
  },
  {
   "cell_type": "code",
   "execution_count": 17,
   "metadata": {},
   "outputs": [
    {
     "data": {
      "text/html": [
       "<div>\n",
       "<style scoped>\n",
       "    .dataframe tbody tr th:only-of-type {\n",
       "        vertical-align: middle;\n",
       "    }\n",
       "\n",
       "    .dataframe tbody tr th {\n",
       "        vertical-align: top;\n",
       "    }\n",
       "\n",
       "    .dataframe thead th {\n",
       "        text-align: right;\n",
       "    }\n",
       "</style>\n",
       "<table border=\"1\" class=\"dataframe\">\n",
       "  <thead>\n",
       "    <tr style=\"text-align: right;\">\n",
       "      <th></th>\n",
       "      <th>STOCHk_14_3_3</th>\n",
       "      <th>STOCHd_14_3_3</th>\n",
       "    </tr>\n",
       "    <tr>\n",
       "      <th>Date</th>\n",
       "      <th></th>\n",
       "      <th></th>\n",
       "    </tr>\n",
       "  </thead>\n",
       "  <tbody>\n",
       "    <tr>\n",
       "      <th>2014-10-04</th>\n",
       "      <td>-37.509344</td>\n",
       "      <td>-25.445139</td>\n",
       "    </tr>\n",
       "    <tr>\n",
       "      <th>2014-10-05</th>\n",
       "      <td>-48.047226</td>\n",
       "      <td>-35.980253</td>\n",
       "    </tr>\n",
       "    <tr>\n",
       "      <th>2014-10-06</th>\n",
       "      <td>-50.582789</td>\n",
       "      <td>-45.379786</td>\n",
       "    </tr>\n",
       "    <tr>\n",
       "      <th>2014-10-07</th>\n",
       "      <td>-39.987669</td>\n",
       "      <td>-46.205895</td>\n",
       "    </tr>\n",
       "    <tr>\n",
       "      <th>2014-10-08</th>\n",
       "      <td>-26.924530</td>\n",
       "      <td>-39.164996</td>\n",
       "    </tr>\n",
       "  </tbody>\n",
       "</table>\n",
       "</div>"
      ],
      "text/plain": [
       "            STOCHk_14_3_3  STOCHd_14_3_3\n",
       "Date                                    \n",
       "2014-10-04     -37.509344     -25.445139\n",
       "2014-10-05     -48.047226     -35.980253\n",
       "2014-10-06     -50.582789     -45.379786\n",
       "2014-10-07     -39.987669     -46.205895\n",
       "2014-10-08     -26.924530     -39.164996"
      ]
     },
     "execution_count": 17,
     "metadata": {},
     "output_type": "execute_result"
    }
   ],
   "source": [
    "stoch_btc = pta.stoch(btc_history['Close'],btc_history['High'],btc_history['Low'],length=14).dropna()\n",
    "stoch_btc.to_csv('resources/stoch_btc.csv')\n",
    "stoch_btc.head()"
   ]
  },
  {
   "cell_type": "markdown",
   "metadata": {},
   "source": [
    "# True Strength Index - TSI"
   ]
  },
  {
   "cell_type": "code",
   "execution_count": 18,
   "metadata": {},
   "outputs": [
    {
     "data": {
      "text/html": [
       "<div>\n",
       "<style scoped>\n",
       "    .dataframe tbody tr th:only-of-type {\n",
       "        vertical-align: middle;\n",
       "    }\n",
       "\n",
       "    .dataframe tbody tr th {\n",
       "        vertical-align: top;\n",
       "    }\n",
       "\n",
       "    .dataframe thead th {\n",
       "        text-align: right;\n",
       "    }\n",
       "</style>\n",
       "<table border=\"1\" class=\"dataframe\">\n",
       "  <thead>\n",
       "    <tr style=\"text-align: right;\">\n",
       "      <th></th>\n",
       "      <th>TSI_13_25_13</th>\n",
       "      <th>TSIs_13_25_13</th>\n",
       "    </tr>\n",
       "    <tr>\n",
       "      <th>time</th>\n",
       "      <th></th>\n",
       "      <th></th>\n",
       "    </tr>\n",
       "  </thead>\n",
       "  <tbody>\n",
       "    <tr>\n",
       "      <th>2016-02-19</th>\n",
       "      <td>36.723593</td>\n",
       "      <td>55.155104</td>\n",
       "    </tr>\n",
       "    <tr>\n",
       "      <th>2016-02-20</th>\n",
       "      <td>33.186631</td>\n",
       "      <td>52.016751</td>\n",
       "    </tr>\n",
       "    <tr>\n",
       "      <th>2016-02-21</th>\n",
       "      <td>31.275368</td>\n",
       "      <td>49.053696</td>\n",
       "    </tr>\n",
       "    <tr>\n",
       "      <th>2016-02-22</th>\n",
       "      <td>32.410383</td>\n",
       "      <td>46.676080</td>\n",
       "    </tr>\n",
       "    <tr>\n",
       "      <th>2016-02-23</th>\n",
       "      <td>33.287523</td>\n",
       "      <td>44.763429</td>\n",
       "    </tr>\n",
       "  </tbody>\n",
       "</table>\n",
       "</div>"
      ],
      "text/plain": [
       "            TSI_13_25_13  TSIs_13_25_13\n",
       "time                                   \n",
       "2016-02-19     36.723593      55.155104\n",
       "2016-02-20     33.186631      52.016751\n",
       "2016-02-21     31.275368      49.053696\n",
       "2016-02-22     32.410383      46.676080\n",
       "2016-02-23     33.287523      44.763429"
      ]
     },
     "execution_count": 18,
     "metadata": {},
     "output_type": "execute_result"
    }
   ],
   "source": [
    "tsi_eth = pta.tsi(metrics_eth['PriceUSD']).dropna()\n",
    "tsi_eth.to_csv('resources/tsi_eth.csv')\n",
    "tsi_eth.head()"
   ]
  },
  {
   "cell_type": "code",
   "execution_count": 19,
   "metadata": {},
   "outputs": [
    {
     "data": {
      "text/html": [
       "<div>\n",
       "<style scoped>\n",
       "    .dataframe tbody tr th:only-of-type {\n",
       "        vertical-align: middle;\n",
       "    }\n",
       "\n",
       "    .dataframe tbody tr th {\n",
       "        vertical-align: top;\n",
       "    }\n",
       "\n",
       "    .dataframe thead th {\n",
       "        text-align: right;\n",
       "    }\n",
       "</style>\n",
       "<table border=\"1\" class=\"dataframe\">\n",
       "  <thead>\n",
       "    <tr style=\"text-align: right;\">\n",
       "      <th></th>\n",
       "      <th>TSI_13_25_13</th>\n",
       "      <th>TSIs_13_25_13</th>\n",
       "    </tr>\n",
       "    <tr>\n",
       "      <th>time</th>\n",
       "      <th></th>\n",
       "      <th></th>\n",
       "    </tr>\n",
       "  </thead>\n",
       "  <tbody>\n",
       "    <tr>\n",
       "      <th>2010-09-05</th>\n",
       "      <td>-18.100723</td>\n",
       "      <td>-17.291109</td>\n",
       "    </tr>\n",
       "    <tr>\n",
       "      <th>2010-09-06</th>\n",
       "      <td>-18.088929</td>\n",
       "      <td>-17.405083</td>\n",
       "    </tr>\n",
       "    <tr>\n",
       "      <th>2010-09-07</th>\n",
       "      <td>-18.229348</td>\n",
       "      <td>-17.522835</td>\n",
       "    </tr>\n",
       "    <tr>\n",
       "      <th>2010-09-08</th>\n",
       "      <td>-18.453034</td>\n",
       "      <td>-17.655721</td>\n",
       "    </tr>\n",
       "    <tr>\n",
       "      <th>2010-09-09</th>\n",
       "      <td>-18.570205</td>\n",
       "      <td>-17.786361</td>\n",
       "    </tr>\n",
       "  </tbody>\n",
       "</table>\n",
       "</div>"
      ],
      "text/plain": [
       "            TSI_13_25_13  TSIs_13_25_13\n",
       "time                                   \n",
       "2010-09-05    -18.100723     -17.291109\n",
       "2010-09-06    -18.088929     -17.405083\n",
       "2010-09-07    -18.229348     -17.522835\n",
       "2010-09-08    -18.453034     -17.655721\n",
       "2010-09-09    -18.570205     -17.786361"
      ]
     },
     "execution_count": 19,
     "metadata": {},
     "output_type": "execute_result"
    }
   ],
   "source": [
    "tsi_btc = pta.tsi(metrics_btc['PriceUSD']).dropna()\n",
    "tsi_btc.to_csv('resources/tsi_btc.csv')\n",
    "tsi_btc.head()"
   ]
  }
 ],
 "metadata": {
  "interpreter": {
   "hash": "1d1365bc7bea9ca53bbaaff2a498c5cc15b63a6fcc47bade387e2edfe7e7b068"
  },
  "kernelspec": {
   "display_name": "Python 3.7.9 64-bit ('algotrading': conda)",
   "name": "python3"
  },
  "language_info": {
   "codemirror_mode": {
    "name": "ipython",
    "version": 3
   },
   "file_extension": ".py",
   "mimetype": "text/x-python",
   "name": "python",
   "nbconvert_exporter": "python",
   "pygments_lexer": "ipython3",
   "version": "3.7.9"
  },
  "orig_nbformat": 4
 },
 "nbformat": 4,
 "nbformat_minor": 2
}
