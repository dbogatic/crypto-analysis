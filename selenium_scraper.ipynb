{
 "cells": [
  {
   "cell_type": "markdown",
   "source": [
    "# Web scraping Investing.com using Selenium and Chrome webdriver \n",
    "## Daily ETH and BTC Technical Data\n",
    "\n",
    "Source: \n",
    "https://medium.com/@sarfrazarshad/scraping-dynamically-created-tables-196b7cbe6c84\n",
    "\n",
    "https://stackoverflow.com/questions/53398785/pandas-read-html-valueerror-no-tables-found"
   ],
   "metadata": {}
  },
  {
   "cell_type": "code",
   "execution_count": 152,
   "source": [
    "from selenium import webdriver\n",
    "import pandas as pd"
   ],
   "outputs": [],
   "metadata": {}
  },
  {
   "cell_type": "markdown",
   "source": [
    "## ETH Technicals (Daily)"
   ],
   "metadata": {}
  },
  {
   "cell_type": "code",
   "execution_count": 129,
   "source": [
    "# Specify url that had tables we need to scrape\n",
    "url =('http://www.investing.com/indices/investing.com-eth-usd-technical')"
   ],
   "outputs": [],
   "metadata": {}
  },
  {
   "cell_type": "code",
   "execution_count": 130,
   "source": [
    "# Setup the webdriver\n",
    "driver = webdriver.Chrome(executable_path='/Users/draganbogatic/chromedriver')"
   ],
   "outputs": [],
   "metadata": {}
  },
  {
   "cell_type": "code",
   "execution_count": 131,
   "source": [
    "# When the driver open the web page, click on the Daily tab to obtain daily technicals (default is hourly)\n",
    "driver.get(url)"
   ],
   "outputs": [],
   "metadata": {}
  },
  {
   "cell_type": "code",
   "execution_count": 172,
   "source": [
    "# Obtain table data by id and parse HTML \n",
    "items = driver.find_elements_by_id(\"curr_table\")\n",
    "\n",
    "for item in items:\n",
    "    table = item.get_attribute('outerHTML')\n",
    "    eth_technicals = pd.read_html(table, index_col=0)\n",
    "    print(eth_technicals)"
   ],
   "outputs": [
    {
     "output_type": "stream",
     "name": "stdout",
     "text": [
      "[                S3       S2       S1  Pivot Points       R1       R2       R3\n",
      "Name                                                                         \n",
      "Classic    2172.26  2220.71  2300.83       2349.27  2429.39  2477.83  2557.95\n",
      "Fibonacci  2220.71  2269.82  2300.16       2349.27  2398.38  2428.72  2477.83\n",
      "Camarilla  2345.58  2357.36  2369.15       2349.27  2392.72  2404.50  2416.29\n",
      "Woodie's   2188.08  2228.62  2316.65       2357.18  2445.21  2485.74  2573.77\n",
      "DeMark's         -        -  2325.04       2361.38  2453.60        -        -]\n",
      "[                                                                                     Value  \\\n",
      "Name                                                                                         \n",
      "RSI(14)                                                                             65.728   \n",
      "STOCH(9,6)                                                                          79.942   \n",
      "STOCHRSI(14)                                                                       100.000   \n",
      "MACD(12,26)                                                                         65.330   \n",
      "ADX(14)                                                                             36.705   \n",
      "Williams %R                                                                         -3.058   \n",
      "CCI(14)                                                                           132.5879   \n",
      "ATR(14)                                                                           125.6763   \n",
      "Highs/Lows(14)                                                                    271.1905   \n",
      "Ultimate Oscillator                                                                 61.754   \n",
      "ROC                                                                                 29.134   \n",
      "Bull/Bear Power(13)                                                               398.4891   \n",
      "Buy: 9 Sell: 0 Neutral: 0 Summary:Strong Buy  Buy: 9 Sell: 0 Neutral: 0 Summary:Strong Buy   \n",
      "\n",
      "                                                                                    Action  \n",
      "Name                                                                                        \n",
      "RSI(14)                                                                                Buy  \n",
      "STOCH(9,6)                                                                             Buy  \n",
      "STOCHRSI(14)                                                                    Overbought  \n",
      "MACD(12,26)                                                                            Buy  \n",
      "ADX(14)                                                                                Buy  \n",
      "Williams %R                                                                     Overbought  \n",
      "CCI(14)                                                                                Buy  \n",
      "ATR(14)                                                                    Less Volatility  \n",
      "Highs/Lows(14)                                                                         Buy  \n",
      "Ultimate Oscillator                                                                    Buy  \n",
      "ROC                                                                                    Buy  \n",
      "Bull/Bear Power(13)                                                                    Buy  \n",
      "Buy: 9 Sell: 0 Neutral: 0 Summary:Strong Buy  Buy: 9 Sell: 0 Neutral: 0 Summary:Strong Buy  ]\n",
      "[                                                  Simple  \\\n",
      "Period                                                     \n",
      "MA5                                          2327.04 Buy   \n",
      "MA10                                         2211.95 Buy   \n",
      "MA20                                         2070.96 Buy   \n",
      "MA50                                         2140.77 Buy   \n",
      "MA100                                       2535.49 Sell   \n",
      "MA200                                        2131.09 Buy   \n",
      "Buy: 11 Sell: 1 Summary:Buy  Buy: 11 Sell: 1 Summary:Buy   \n",
      "\n",
      "                                             Exponential  \n",
      "Period                                                    \n",
      "MA5                                          2328.83 Buy  \n",
      "MA10                                         2232.48 Buy  \n",
      "MA20                                         2149.82 Buy  \n",
      "MA50                                         2239.96 Buy  \n",
      "MA100                                        2250.71 Buy  \n",
      "MA200                                        2014.73 Buy  \n",
      "Buy: 11 Sell: 1 Summary:Buy  Buy: 11 Sell: 1 Summary:Buy  ]\n"
     ]
    }
   ],
   "metadata": {}
  },
  {
   "cell_type": "markdown",
   "source": [
    "## BTC Technicals (Daily)"
   ],
   "metadata": {}
  },
  {
   "cell_type": "code",
   "execution_count": 173,
   "source": [
    "# When the driver open the web page, click on the Daily tab to obtain daily technicals (default is hourly)\n",
    "\n",
    "url =('http://www.investing.com/indices/investing.com-btc-usd-technical')\n",
    "driver = webdriver.Chrome(executable_path='/Users/draganbogatic/chromedriver')\n",
    "driver.get(url)"
   ],
   "outputs": [],
   "metadata": {}
  },
  {
   "cell_type": "code",
   "execution_count": 174,
   "source": [
    "items = driver.find_elements_by_id(\"curr_table\")\n",
    "\n",
    "for item in items:\n",
    "    table = item.get_attribute('outerHTML')\n",
    "    btc_technicals = pd.read_html(table, index_col=0)\n",
    "    print(btc_technicals)"
   ],
   "outputs": [
    {
     "output_type": "stream",
     "name": "stdout",
     "text": [
      "[                S3       S2       S1  Pivot Points       R1       R2       R3\n",
      "Name                                                                         \n",
      "Classic    38061.4  38701.1  39351.3       39991.0  40641.2  41280.9  41931.1\n",
      "Fibonacci  38701.1  39193.9  39498.3       39991.0  40483.7  40788.1  41280.9\n",
      "Camarilla  39646.7  39764.9  39883.2       39991.0  40119.6  40237.9  40356.1\n",
      "Woodie's   38066.6  38703.7  39356.5       39993.6  40646.4  41283.5  41936.3\n",
      "DeMark's         -        -  39026.2       39828.4  40316.0        -        -]\n",
      "[                                                                                     Value  \\\n",
      "Name                                                                                         \n",
      "RSI(14)                                                                             69.309   \n",
      "STOCH(9,6)                                                                          92.837   \n",
      "STOCHRSI(14)                                                                        96.676   \n",
      "MACD(12,26)                                                                       1428.800   \n",
      "ADX(14)                                                                             45.579   \n",
      "Williams %R                                                                         -3.491   \n",
      "CCI(14)                                                                           123.2504   \n",
      "ATR(14)                                                                          1780.1097   \n",
      "Highs/Lows(14)                                                                   4263.4475   \n",
      "Ultimate Oscillator                                                                 61.052   \n",
      "ROC                                                                                 26.728   \n",
      "Bull/Bear Power(13)                                                              7040.2722   \n",
      "Buy: 8 Sell: 0 Neutral: 0 Summary:Strong Buy  Buy: 8 Sell: 0 Neutral: 0 Summary:Strong Buy   \n",
      "\n",
      "                                                                                    Action  \n",
      "Name                                                                                        \n",
      "RSI(14)                                                                                Buy  \n",
      "STOCH(9,6)                                                                      Overbought  \n",
      "STOCHRSI(14)                                                                    Overbought  \n",
      "MACD(12,26)                                                                            Buy  \n",
      "ADX(14)                                                                                Buy  \n",
      "Williams %R                                                                     Overbought  \n",
      "CCI(14)                                                                                Buy  \n",
      "ATR(14)                                                                    High Volatility  \n",
      "Highs/Lows(14)                                                                         Buy  \n",
      "Ultimate Oscillator                                                                    Buy  \n",
      "ROC                                                                                    Buy  \n",
      "Bull/Bear Power(13)                                                                    Buy  \n",
      "Buy: 8 Sell: 0 Neutral: 0 Summary:Strong Buy  Buy: 8 Sell: 0 Neutral: 0 Summary:Strong Buy  ]\n",
      "[                                                  Simple  \\\n",
      "Period                                                     \n",
      "MA5                                          39303.6 Buy   \n",
      "MA10                                         36376.8 Buy   \n",
      "MA20                                         34191.3 Buy   \n",
      "MA50                                         34706.0 Buy   \n",
      "MA100                                       40144.5 Sell   \n",
      "MA200                                       44661.7 Sell   \n",
      "Buy: 10 Sell: 2 Summary:Buy  Buy: 10 Sell: 2 Summary:Buy   \n",
      "\n",
      "                                             Exponential  \n",
      "Period                                                    \n",
      "MA5                                          38784.4 Buy  \n",
      "MA10                                         37126.4 Buy  \n",
      "MA20                                         35483.3 Buy  \n",
      "MA50                                         36194.1 Buy  \n",
      "MA100                                        38661.5 Buy  \n",
      "MA200                                        38236.1 Buy  \n",
      "Buy: 10 Sell: 2 Summary:Buy  Buy: 10 Sell: 2 Summary:Buy  ]\n"
     ]
    }
   ],
   "metadata": {}
  }
 ],
 "metadata": {
  "orig_nbformat": 4,
  "language_info": {
   "name": "python",
   "version": "3.7.9",
   "mimetype": "text/x-python",
   "codemirror_mode": {
    "name": "ipython",
    "version": 3
   },
   "pygments_lexer": "ipython3",
   "nbconvert_exporter": "python",
   "file_extension": ".py"
  },
  "kernelspec": {
   "name": "python3",
   "display_name": "Python 3.7.9 64-bit ('algotrading': conda)"
  },
  "interpreter": {
   "hash": "1d1365bc7bea9ca53bbaaff2a498c5cc15b63a6fcc47bade387e2edfe7e7b068"
  }
 },
 "nbformat": 4,
 "nbformat_minor": 2
}